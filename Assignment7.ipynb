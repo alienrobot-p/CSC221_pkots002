{
  "nbformat": 4,
  "nbformat_minor": 0,
  "metadata": {
    "colab": {
      "provenance": [],
      "authorship_tag": "ABX9TyNiruomSyA8Bf+hHlNwE0Qz",
      "include_colab_link": true
    },
    "kernelspec": {
      "name": "python3",
      "display_name": "Python 3"
    },
    "language_info": {
      "name": "python"
    }
  },
  "cells": [
    {
      "cell_type": "markdown",
      "metadata": {
        "id": "view-in-github",
        "colab_type": "text"
      },
      "source": [
        "<a href=\"https://colab.research.google.com/github/alienrobot-p/CSC221_pkots002/blob/main/Assignment7.ipynb\" target=\"_parent\"><img src=\"https://colab.research.google.com/assets/colab-badge.svg\" alt=\"Open In Colab\"/></a>"
      ]
    },
    {
      "cell_type": "code",
      "execution_count": null,
      "metadata": {
        "id": "QLsm3YEXVnVM"
      },
      "outputs": [],
      "source": [
        "#Phoebe Kotsogiannis\n",
        "#Assignment 6"
      ]
    },
    {
      "cell_type": "code",
      "source": [
        "alien_0 = {'color': 'green', 'points': 5}\n",
        "\n",
        "print(alien_0['color'])\n",
        "print(alien_0['points'])\n",
        "\n",
        "new_points = alien_0['points']\n",
        "print(f'you just earned {new_points} points')\n",
        "\n",
        "alien_0['x_position'] = 0\n",
        "alien_0['y_position'] = 25\n",
        "print(alien_0)\n",
        "\n",
        "print(f\"the alien is {alien_0['color']}\")\n",
        "alien_0['color'] = 'yellow'\n",
        "print(f\"the alien is now {alien_0['color']}\")\n"
      ],
      "metadata": {
        "colab": {
          "base_uri": "https://localhost:8080/"
        },
        "id": "gSRzw4JzV_LR",
        "outputId": "50e937c6-3dc0-41cd-d0ff-49ea4672a259"
      },
      "execution_count": null,
      "outputs": [
        {
          "output_type": "stream",
          "name": "stdout",
          "text": [
            "green\n",
            "5\n",
            "you just earned 5 points\n",
            "{'color': 'green', 'points': 5, 'x_position': 0, 'y_position': 25}\n",
            "the alien is green\n",
            "the alien is now yellow\n"
          ]
        }
      ]
    },
    {
      "cell_type": "code",
      "source": [
        "alien_0 = {'x_position': 0, 'y_position': 25, 'speed': 'medium'}\n",
        "print(f\"Original position: {alien_0['x_position']}\")\n",
        "\n",
        "if alien_0['speed'] == 'slow':\n",
        "    x_increment = 1\n",
        "elif alien_0['speed'] == 'medium':\n",
        "    x_increment = 2\n",
        "else:\n",
        "    x_increment = 3\n",
        "# The new position is the old position plus the increment. 2 alien_0['x_position'] = alien_0['x_position'] + x_increment\n",
        "alien_0['x_position'] = alien_0['x_position'] + x_increment\n",
        "\n",
        "print(f\"New position: {alien_0['x_position']}\")"
      ],
      "metadata": {
        "colab": {
          "base_uri": "https://localhost:8080/"
        },
        "id": "QJoTNJkFdxL8",
        "outputId": "6ec15b30-6431-4056-bb26-e0bebffa4fcf"
      },
      "execution_count": null,
      "outputs": [
        {
          "output_type": "stream",
          "name": "stdout",
          "text": [
            "Original position: 0\n",
            "New position: 2\n"
          ]
        }
      ]
    },
    {
      "cell_type": "code",
      "source": [
        "alien_0 = {'color': 'green', 'points': 5}\n",
        "print(alien_0)\n",
        "\n",
        "del alien_0['points']\n",
        "print(alien_0)"
      ],
      "metadata": {
        "colab": {
          "base_uri": "https://localhost:8080/"
        },
        "id": "cRthLECLfRGM",
        "outputId": "5adb337f-8841-4bdc-ae70-e08d8dd2557d"
      },
      "execution_count": null,
      "outputs": [
        {
          "output_type": "stream",
          "name": "stdout",
          "text": [
            "{'color': 'green', 'points': 5}\n",
            "{'color': 'green'}\n"
          ]
        }
      ]
    },
    {
      "cell_type": "code",
      "source": [
        "favorite_languages = {\n",
        "    'jen': 'python',\n",
        "    'sarah': 'c',\n",
        "    'edward': 'rust',\n",
        "    'phil': 'python',\n",
        "    }\n",
        "\n",
        "for name, language in favorite_languages.items():\n",
        "    print(f\"{name.title()}'s favorite language is {language.title()}.\")"
      ],
      "metadata": {
        "colab": {
          "base_uri": "https://localhost:8080/"
        },
        "id": "GlHAQMRRgSgx",
        "outputId": "8d0d52f0-344b-4ce2-907e-f01541b19244"
      },
      "execution_count": null,
      "outputs": [
        {
          "output_type": "stream",
          "name": "stdout",
          "text": [
            "Jen's favorite language is Python.\n",
            "Sarah's favorite language is C.\n",
            "Edward's favorite language is Rust.\n",
            "Phil's favorite language is Python.\n"
          ]
        }
      ]
    },
    {
      "cell_type": "code",
      "source": [
        "#6.1\n",
        "person_info = {\n",
        "    'first_name': 'bill',\n",
        "    'last_name': 'wiese',\n",
        "    'age': '47',\n",
        "    'city': 'plattsburgh',\n",
        "}\n",
        "print(person_info['first_name'])\n",
        "print(person_info['last_name'])\n",
        "print(person_info['age'])\n",
        "print(person_info['city'])"
      ],
      "metadata": {
        "colab": {
          "base_uri": "https://localhost:8080/"
        },
        "id": "m11OzCFfVvOV",
        "outputId": "a92c95bd-114f-4233-b947-98a37a708cc5"
      },
      "execution_count": null,
      "outputs": [
        {
          "output_type": "stream",
          "name": "stdout",
          "text": [
            "bill\n",
            "wiese\n",
            "47\n",
            "plattsburgh\n"
          ]
        }
      ]
    },
    {
      "cell_type": "code",
      "source": [
        "#6.2\n",
        "number_name = {\n",
        "    'phoebe': '6',\n",
        "    'rylie': '7',\n",
        "    'pat': '12',\n",
        "    'bill': '21',\n",
        "}\n",
        "print(\"phoebe's fav number is \" + number_name['phoebe'])\n",
        "print(\"rylie's fav number is \" +number_name['rylie'])\n",
        "print(\"pat's fav number is \" +number_name['pat'])\n",
        "print(\"bill's fav number is \" +number_name['bill'])"
      ],
      "metadata": {
        "colab": {
          "base_uri": "https://localhost:8080/"
        },
        "id": "H030b05bVyPr",
        "outputId": "c941631e-4e2a-4d0c-847b-62f03bf8970d"
      },
      "execution_count": null,
      "outputs": [
        {
          "output_type": "stream",
          "name": "stdout",
          "text": [
            "phoebe's fav number is 6\n",
            "rylie's fav number is 7\n",
            "pat's fav number is 12\n",
            "bill's fav number is 21\n"
          ]
        }
      ]
    },
    {
      "cell_type": "code",
      "source": [
        "#6.3\n",
        "glossary = {\n",
        "    'variable': 'A named storage location in a program where data can be stored and manipulated.',\n",
        "    'function': 'A reusable block of code that performs a specific task or operation.',\n",
        "    'loop': 'A control structure that repeats a set of instructions as long as a certain condition is met.',\n",
        "    'conditional statement': 'A construct in programming that allows you to make decisions based on certain conditions.',\n",
        "    'algorithm': 'A step-by-step procedure or set of rules used for solving a specific problem or performing a task.'\n",
        "}\n",
        "print(\"variable: \" + glossary['variable'])\n",
        "print(\"function: \" + glossary['function'])\n",
        "print(\"loop: \" + glossary['loop'])\n",
        "print(\"conditional statement: \" + glossary['conditional statement'])\n",
        "print(\"algorithm: \" + glossary['algorithm'])"
      ],
      "metadata": {
        "colab": {
          "base_uri": "https://localhost:8080/"
        },
        "id": "phDa0pdtVz78",
        "outputId": "2a9407dd-7c07-46e6-8eef-82350a0f78ff"
      },
      "execution_count": null,
      "outputs": [
        {
          "output_type": "stream",
          "name": "stdout",
          "text": [
            "variable: A named storage location in a program where data can be stored and manipulated.\n",
            "function: A reusable block of code that performs a specific task or operation.\n",
            "loop: A control structure that repeats a set of instructions as long as a certain condition is met.\n",
            "conditional statement: A construct in programming that allows you to make decisions based on certain conditions.\n",
            "algorithm: A step-by-step procedure or set of rules used for solving a specific problem or performing a task.\n"
          ]
        }
      ]
    },
    {
      "cell_type": "code",
      "source": [
        "user_0 = {\n",
        "    'username': 'efermi',\n",
        "    'first': 'enrico',\n",
        "    'last': 'fermi',\n",
        "    }\n",
        "for key, value in user_0.items():\n",
        "    print(f\"\\nKey: {key}\")\n",
        "    print(f\"Value: {value}\")"
      ],
      "metadata": {
        "colab": {
          "base_uri": "https://localhost:8080/"
        },
        "id": "WgcMoNUDnVCq",
        "outputId": "b49018e0-260f-4a37-d006-9701f8bb7101"
      },
      "execution_count": null,
      "outputs": [
        {
          "output_type": "stream",
          "name": "stdout",
          "text": [
            "\n",
            "Key: username\n",
            "Value: efermi\n",
            "\n",
            "Key: first\n",
            "Value: enrico\n",
            "\n",
            "Key: last\n",
            "Value: fermi\n"
          ]
        }
      ]
    },
    {
      "cell_type": "code",
      "source": [
        "favorite_languages = {\n",
        "    'jen': 'python',\n",
        "    'sarah': 'c',\n",
        "    'edward': 'rust',\n",
        "    'phil': 'python',\n",
        "    }\n",
        "\n",
        "friends = ['phil', 'sarah']\n",
        "for name in favorite_languages.keys():\n",
        "    print(f\"Hi {name.title()}.\")\n",
        "\n",
        "if name in friends:\n",
        "    language = favorite_languages[name].title()\n",
        "    print(f\"\\t{name.title()}, I see you love {language}!\")\n",
        "\n",
        "if 'erin' not in favorite_languages.keys():\n",
        "    print(\"Erin, please take our poll!\")\n",
        "\n",
        "print(\"The following languages have been mentioned:\")\n",
        "for language in favorite_languages.values():\n",
        "    print(language.title())"
      ],
      "metadata": {
        "colab": {
          "base_uri": "https://localhost:8080/"
        },
        "id": "CMcNrUSvAdIa",
        "outputId": "bd68c533-8dc9-4c66-c433-9c6d92b2247b"
      },
      "execution_count": null,
      "outputs": [
        {
          "output_type": "stream",
          "name": "stdout",
          "text": [
            "Hi Jen.\n",
            "Hi Sarah.\n",
            "Hi Edward.\n",
            "Hi Phil.\n",
            "\tPhil, I see you love Python!\n",
            "Erin, please take our poll!\n",
            "The following languages have been mentioned:\n",
            "Python\n",
            "C\n",
            "Rust\n",
            "Python\n"
          ]
        }
      ]
    },
    {
      "cell_type": "code",
      "source": [
        "#6.4\n",
        "glossary = {\n",
        "  'variable': 'A named storage location in a program where data can be stored and manipulated.',\n",
        "    'function': 'A reusable block of code that performs a specific task or operation.',\n",
        "    'loop': 'A control structure that repeats a set of instructions as long as a certain condition is met.',\n",
        "    'conditional statement': 'A construct in programming that allows you to make decisions based on certain conditions.',\n",
        "    'algorithm': 'A step-by-step procedure or set of rules used for solving a specific problem or performing a task.'\n",
        "}\n",
        "for word, meaning in glossary.items():\n",
        "    print(f\"{word}:\\n{meaning}\\n\")"
      ],
      "metadata": {
        "id": "RJWQEG7RV1wk"
      },
      "execution_count": null,
      "outputs": []
    },
    {
      "cell_type": "code",
      "source": [
        "alien_0 = {'color': 'green', 'points': 5}\n",
        "alien_1 = {'color': 'yellow', 'points': 10}\n",
        "alien_2 = {'color': 'red', 'points': 15}\n",
        "\n",
        "aliens = [alien_0, alien_1, alien_2]\n",
        "\n",
        "for alien in aliens:\n",
        "    print(alien)"
      ],
      "metadata": {
        "colab": {
          "base_uri": "https://localhost:8080/"
        },
        "id": "Ci-74BADDxWH",
        "outputId": "f379e0a8-d6fa-4b75-e1fb-1d4134c3b0cb"
      },
      "execution_count": null,
      "outputs": [
        {
          "output_type": "stream",
          "name": "stdout",
          "text": [
            "{'color': 'green', 'points': 5}\n",
            "{'color': 'yellow', 'points': 10}\n",
            "{'color': 'red', 'points': 15}\n"
          ]
        }
      ]
    },
    {
      "cell_type": "code",
      "source": [
        "aliens = []\n",
        "\n",
        "for alien_number in range(30):\n",
        "    new_alien = {'color': 'green', 'points': 5, 'speed': 'slow'}\n",
        "    aliens.append(new_alien)\n",
        "\n",
        "for alien in aliens[0:3]:\n",
        "    if alien['color'] == 'green':\n",
        "        alien['color'] = 'yellow'\n",
        "        alien['speed'] = 'medium'\n",
        "        alien['points'] = 10\n",
        "    elif alien['color'] == 'yellow':\n",
        "        alien['color'] = 'red'\n",
        "        alien['speed'] = 'fast'\n",
        "        alien['points'] = 15\n",
        "\n",
        "for alien in aliens[:5]:\n",
        "    print(alien)\n",
        "print(\"...\")\n",
        "\n",
        "print(f'total number of aliens: {len(aliens)}')"
      ],
      "metadata": {
        "colab": {
          "base_uri": "https://localhost:8080/"
        },
        "id": "kUEK6mkPERX0",
        "outputId": "da7bf936-d89a-4623-a373-c06ebfcfb853"
      },
      "execution_count": null,
      "outputs": [
        {
          "output_type": "stream",
          "name": "stdout",
          "text": [
            "{'color': 'yellow', 'points': 10, 'speed': 'medium'}\n",
            "{'color': 'yellow', 'points': 10, 'speed': 'medium'}\n",
            "{'color': 'yellow', 'points': 10, 'speed': 'medium'}\n",
            "{'color': 'green', 'points': 5, 'speed': 'slow'}\n",
            "{'color': 'green', 'points': 5, 'speed': 'slow'}\n",
            "...\n",
            "total number of aliens: 30\n"
          ]
        }
      ]
    },
    {
      "cell_type": "code",
      "source": [
        "from typing_extensions import Counter\n",
        "#6.11\n",
        "dictionary_cities = {\n",
        "    'new york': {\n",
        "        'country': 'united states',\n",
        "        'population': 8398748,\n",
        "        'fact': 'nyc is the big apple'\n",
        "    },\n",
        "    'istanbul': {\n",
        "        'country': 'turkey',\n",
        "        'population': 15907951,\n",
        "        'fact': 'istanbul is the largest city in turkey'\n",
        "    },\n",
        "    'london': {\n",
        "        'country': 'england',\n",
        "        'population': 8799800,\n",
        "        'fact': 'london is the the most visited city in europe'\n",
        "    },\n",
        "}\n",
        "\n",
        "for city, city_info in dictionary_cities.items():\n",
        "    print(f\"\\nCity: {city}\")\n",
        "    print(f\"Country: {city_info['country']}\")\n",
        "    print(f\"Population: {city_info['population']}\")\n",
        "    print(f\"Fact: {city_info['fact']}\")"
      ],
      "metadata": {
        "colab": {
          "base_uri": "https://localhost:8080/"
        },
        "id": "bbsjOl5iV3pg",
        "outputId": "ac9195f7-ab30-483c-8f1d-9d61b5172ff4"
      },
      "execution_count": null,
      "outputs": [
        {
          "output_type": "stream",
          "name": "stdout",
          "text": [
            "\n",
            "City: new york\n",
            "Country: united states\n",
            "Population: 8398748\n",
            "Fact: nyc is the big apple\n",
            "\n",
            "City: istanbul\n",
            "Country: turkey\n",
            "Population: 15907951\n",
            "Fact: istanbul is the largest city in turkey\n",
            "\n",
            "City: london\n",
            "Country: england\n",
            "Population: 8799800\n",
            "Fact: london is the the most visited city in europe\n"
          ]
        }
      ]
    },
    {
      "cell_type": "code",
      "source": [
        "#6.12"
      ],
      "metadata": {
        "id": "B6tyZBhJV7Hv"
      },
      "execution_count": null,
      "outputs": []
    }
  ]
}