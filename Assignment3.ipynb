{
  "nbformat": 4,
  "nbformat_minor": 0,
  "metadata": {
    "colab": {
      "provenance": [],
      "authorship_tag": "ABX9TyMA2DHmRb6FitIOhCKjGV9d",
      "include_colab_link": true
    },
    "kernelspec": {
      "name": "python3",
      "display_name": "Python 3"
    },
    "language_info": {
      "name": "python"
    }
  },
  "cells": [
    {
      "cell_type": "markdown",
      "metadata": {
        "id": "view-in-github",
        "colab_type": "text"
      },
      "source": [
        "<a href=\"https://colab.research.google.com/github/alienrobot-p/CSC221_pkots002/blob/main/Assignment3.ipynb\" target=\"_parent\"><img src=\"https://colab.research.google.com/assets/colab-badge.svg\" alt=\"Open In Colab\"/></a>"
      ]
    },
    {
      "cell_type": "code",
      "execution_count": 3,
      "metadata": {
        "colab": {
          "base_uri": "https://localhost:8080/"
        },
        "id": "Bc5jWMEL6Kmh",
        "outputId": "33358e68-a3ef-4aea-9796-28b3ba0fc861"
      },
      "outputs": [
        {
          "output_type": "stream",
          "name": "stdout",
          "text": [
            "Hello Python World\n",
            "Hello Python Crash Course world!\n"
          ]
        }
      ],
      "source": [
        "message = 'Hello Python World'\n",
        "print(message)\n",
        "\n",
        "message = \"Hello Python Crash Course world!\"\n",
        "print(message)"
      ]
    },
    {
      "cell_type": "code",
      "source": [
        "#try it yourself 2.1\n",
        "message = \"oops i missed this 'try it yourself'\"\n",
        "print(message)\n",
        "#try it yourself 2.2\n",
        "message = \"yay i did this 'try it yourself'\"\n",
        "print(message)"
      ],
      "metadata": {
        "colab": {
          "base_uri": "https://localhost:8080/"
        },
        "id": "-vM9aH-5BWqw",
        "outputId": "48a8c02b-cbd7-47f8-dd5f-bf5117948070"
      },
      "execution_count": 29,
      "outputs": [
        {
          "output_type": "stream",
          "name": "stdout",
          "text": [
            "oops i missed this 'try it yourself'\n",
            "yay i did this 'try it yourself'\n"
          ]
        }
      ]
    },
    {
      "cell_type": "code",
      "source": [
        "name = 'ada lovelace'\n",
        "print(name.title())\n",
        "print(name.upper())\n",
        "print(name.lower())\n",
        "\n",
        "first_name = \"ada\"\n",
        "last_name = \"lovelace\"\n",
        "full_name = f'{first_name} {last_name}'\n",
        "print(full_name)\n",
        "message = (f\"Hello, {full_name.title()}!\")\n",
        "print(message)"
      ],
      "metadata": {
        "colab": {
          "base_uri": "https://localhost:8080/"
        },
        "id": "VGydze6U84rf",
        "outputId": "2961eb4a-e877-43fc-dc19-9fdd2b763ced"
      },
      "execution_count": 7,
      "outputs": [
        {
          "output_type": "stream",
          "name": "stdout",
          "text": [
            "Ada Lovelace\n",
            "ADA LOVELACE\n",
            "ada lovelace\n",
            "ada lovelace\n",
            "Hello, Ada Lovelace!\n"
          ]
        }
      ]
    },
    {
      "cell_type": "code",
      "source": [
        "print('Python')\n",
        "print('\\tPython')\n",
        "print('Languages:\\nPython\\nC\\nJavaScript')\n",
        "print('Languages:\\n\\tPython\\n\\tC\\n\\tJavaScript')"
      ],
      "metadata": {
        "colab": {
          "base_uri": "https://localhost:8080/"
        },
        "id": "Rs8LAfD3-FNv",
        "outputId": "c4b0ad2e-df21-4563-9b95-6b5bb41f921c"
      },
      "execution_count": 10,
      "outputs": [
        {
          "output_type": "stream",
          "name": "stdout",
          "text": [
            "Python\n",
            "\tPython\n",
            "Languages:\n",
            "Python\n",
            "C\n",
            "JavaScript\n",
            "Languages:\n",
            "\tPython\n",
            "\tC\n",
            "\tJavaScript\n"
          ]
        }
      ]
    },
    {
      "cell_type": "code",
      "source": [
        "favorite_language = 'python'\n",
        "favorite_language.rstrip()\n",
        "favorite_language.lstrip()\n",
        "favorite_language.strip()\n",
        "\n"
      ],
      "metadata": {
        "colab": {
          "base_uri": "https://localhost:8080/",
          "height": 35
        },
        "id": "UjppOYxC-v3k",
        "outputId": "f4650eff-1261-4a19-d8f5-d079ebac92df"
      },
      "execution_count": 54,
      "outputs": [
        {
          "output_type": "execute_result",
          "data": {
            "text/plain": [
              "'python'"
            ],
            "application/vnd.google.colaboratory.intrinsic+json": {
              "type": "string"
            }
          },
          "metadata": {},
          "execution_count": 54
        }
      ]
    },
    {
      "cell_type": "code",
      "source": [
        "nostarch_url = 'https://nostarch.com'\n",
        "nostarch_url.removeprefix('https://')\n",
        "\n",
        "simple_url = nostarch_url.removeprefix('https://')"
      ],
      "metadata": {
        "id": "BVHqB9RW_aPG"
      },
      "execution_count": 25,
      "outputs": []
    },
    {
      "cell_type": "code",
      "source": [
        "message = \"One of Python's strengths is its diverse commmunity.\"\n",
        "print(message)"
      ],
      "metadata": {
        "colab": {
          "base_uri": "https://localhost:8080/"
        },
        "id": "myj77SOOAZte",
        "outputId": "2012b080-801c-44c3-c3a8-beba51977160"
      },
      "execution_count": 26,
      "outputs": [
        {
          "output_type": "stream",
          "name": "stdout",
          "text": [
            "One of Python's strengths is its diverse commmunity.\n"
          ]
        }
      ]
    },
    {
      "cell_type": "code",
      "source": [
        "#try it yourself 2.3\n",
        "name = 'phoebz'\n",
        "message = (f'hello {name}, would you like to learn python today? ')\n",
        "print(message)"
      ],
      "metadata": {
        "colab": {
          "base_uri": "https://localhost:8080/"
        },
        "id": "4zTHXgqsA58_",
        "outputId": "8030810a-3bed-438f-87e6-4cf2351a04c6"
      },
      "execution_count": 46,
      "outputs": [
        {
          "output_type": "stream",
          "name": "stdout",
          "text": [
            "hello phoebz, would you like to learn python today? \n"
          ]
        }
      ]
    },
    {
      "cell_type": "code",
      "source": [
        "#2.4\n",
        "name = 'phoebe kotsogiannis'\n",
        "print(name.title())\n",
        "print(name.upper())\n",
        "print(name.lower())"
      ],
      "metadata": {
        "colab": {
          "base_uri": "https://localhost:8080/"
        },
        "id": "EUa68Mi-Ejet",
        "outputId": "60ebaf98-40e1-40d8-cf8c-8728e8f923d4"
      },
      "execution_count": 47,
      "outputs": [
        {
          "output_type": "stream",
          "name": "stdout",
          "text": [
            "Phoebe Kotsogiannis\n",
            "PHOEBE KOTSOGIANNIS\n",
            "phoebe kotsogiannis\n"
          ]
        }
      ]
    },
    {
      "cell_type": "code",
      "source": [
        "#2.5\n",
        "print('Albert Einstein once said, \"A person who never made a mistake never tried anything new.\"')"
      ],
      "metadata": {
        "colab": {
          "base_uri": "https://localhost:8080/"
        },
        "id": "Jp5SxCZ4En4k",
        "outputId": "81412b15-bfab-4ee5-d61c-773581f737bc"
      },
      "execution_count": 50,
      "outputs": [
        {
          "output_type": "stream",
          "name": "stdout",
          "text": [
            "Albert Einstein once said, \"A person who never made a mistake never tried anything new.\"\n"
          ]
        }
      ]
    },
    {
      "cell_type": "code",
      "source": [
        "#2.6\n",
        "famous_person = 'Albert Einstein'\n",
        "message = 'Albert Einstein once said, \"A person who never made a mistake never tried anything new.\"'\n",
        "print(message)"
      ],
      "metadata": {
        "colab": {
          "base_uri": "https://localhost:8080/"
        },
        "id": "Q3ByoE3RFqp4",
        "outputId": "4db38645-218d-480e-81cc-6d39321a586e"
      },
      "execution_count": 51,
      "outputs": [
        {
          "output_type": "stream",
          "name": "stdout",
          "text": [
            "Albert Einstein once said, \"A person who never made a mistake never tried anything new.\"\n"
          ]
        }
      ]
    },
    {
      "cell_type": "code",
      "source": [
        "#2.7\n",
        "name = '  \\tBilliam\\n'\n",
        "print(name)\n",
        "name.rstrip()\n",
        "name.lstrip()\n",
        "name.strip()"
      ],
      "metadata": {
        "colab": {
          "base_uri": "https://localhost:8080/",
          "height": 69
        },
        "id": "L-1JNKxGGl4B",
        "outputId": "79827e22-f24f-4d6c-f488-57c9ce84f988"
      },
      "execution_count": 63,
      "outputs": [
        {
          "output_type": "stream",
          "name": "stdout",
          "text": [
            "  \tBilliam\n",
            "\n"
          ]
        },
        {
          "output_type": "execute_result",
          "data": {
            "text/plain": [
              "'Billiam'"
            ],
            "application/vnd.google.colaboratory.intrinsic+json": {
              "type": "string"
            }
          },
          "metadata": {},
          "execution_count": 63
        }
      ]
    },
    {
      "cell_type": "code",
      "source": [
        "#2.8\n",
        "file_name = 'python_notes.txt'\n",
        "file_name.removesuffix('.txt')"
      ],
      "metadata": {
        "colab": {
          "base_uri": "https://localhost:8080/",
          "height": 35
        },
        "id": "F6NnvWYfLE2m",
        "outputId": "1834840d-1e9c-41ef-9e10-89ca10a794ae"
      },
      "execution_count": 67,
      "outputs": [
        {
          "output_type": "execute_result",
          "data": {
            "text/plain": [
              "'python_notes'"
            ],
            "application/vnd.google.colaboratory.intrinsic+json": {
              "type": "string"
            }
          },
          "metadata": {},
          "execution_count": 67
        }
      ]
    },
    {
      "cell_type": "code",
      "source": [
        "2 + 3\n",
        "3 ** 2\n",
        "(2 + 3)*4"
      ],
      "metadata": {
        "colab": {
          "base_uri": "https://localhost:8080/"
        },
        "id": "6Wk84ecINVYV",
        "outputId": "5cc10cb7-c2d7-44db-db11-38bbda7978d4"
      },
      "execution_count": 81,
      "outputs": [
        {
          "output_type": "execute_result",
          "data": {
            "text/plain": [
              "20"
            ]
          },
          "metadata": {},
          "execution_count": 81
        }
      ]
    },
    {
      "cell_type": "code",
      "source": [
        "0.1 + 0.1\n",
        "0.1 + 0.2"
      ],
      "metadata": {
        "colab": {
          "base_uri": "https://localhost:8080/"
        },
        "id": "zzXs3LRZPs0d",
        "outputId": "445a9a91-295b-437c-c2aa-a1a64063c81e"
      },
      "execution_count": 83,
      "outputs": [
        {
          "output_type": "execute_result",
          "data": {
            "text/plain": [
              "0.30000000000000004"
            ]
          },
          "metadata": {},
          "execution_count": 83
        }
      ]
    },
    {
      "cell_type": "code",
      "source": [
        "4/2\n",
        "1 + 2.0\n",
        "2 * 3.0\n",
        "3.0 ** 2"
      ],
      "metadata": {
        "colab": {
          "base_uri": "https://localhost:8080/"
        },
        "id": "3tPnoimwP-fX",
        "outputId": "78f01413-8c92-4683-bdf9-a9e9392d098d"
      },
      "execution_count": 86,
      "outputs": [
        {
          "output_type": "execute_result",
          "data": {
            "text/plain": [
              "9.0"
            ]
          },
          "metadata": {},
          "execution_count": 86
        }
      ]
    },
    {
      "cell_type": "code",
      "source": [
        "universe_age = 14_000_000_000\n",
        "print(universe_age)"
      ],
      "metadata": {
        "colab": {
          "base_uri": "https://localhost:8080/"
        },
        "id": "XwajGMsMQSPS",
        "outputId": "743c7193-3012-4f15-be8f-0d57b167847e"
      },
      "execution_count": 88,
      "outputs": [
        {
          "output_type": "stream",
          "name": "stdout",
          "text": [
            "14000000000\n"
          ]
        }
      ]
    },
    {
      "cell_type": "code",
      "source": [
        "x, y, z = 0, 0, 0\n",
        "print(x)"
      ],
      "metadata": {
        "colab": {
          "base_uri": "https://localhost:8080/"
        },
        "id": "bA-e40PkQmZM",
        "outputId": "1a866050-6d07-4c19-a791-8f0a33693961"
      },
      "execution_count": 90,
      "outputs": [
        {
          "output_type": "stream",
          "name": "stdout",
          "text": [
            "0\n"
          ]
        }
      ]
    },
    {
      "cell_type": "code",
      "source": [
        "MAX_CONNECTIONS = 5000"
      ],
      "metadata": {
        "id": "tvLYNX28Q1Sq"
      },
      "execution_count": 91,
      "outputs": []
    },
    {
      "cell_type": "code",
      "source": [
        "#2.9\n",
        "#prints equations that all equal 8\n",
        "print(5+3)\n",
        "print(10-2)\n",
        "print(4*2)\n",
        "print(40/5)"
      ],
      "metadata": {
        "colab": {
          "base_uri": "https://localhost:8080/"
        },
        "id": "NWP6VkM9ROXo",
        "outputId": "449522d4-7dcf-45fc-aeed-ee8241921a04"
      },
      "execution_count": 93,
      "outputs": [
        {
          "output_type": "stream",
          "name": "stdout",
          "text": [
            "8\n",
            "8\n",
            "8\n",
            "8.0\n"
          ]
        }
      ]
    },
    {
      "cell_type": "code",
      "source": [
        "#2.10\n",
        "#this program prints my favorite number in a message\n",
        "number = '6'\n",
        "message = f\"Guess what my favorite number is... joking! I'll just tell you. It's {number}.\"\n",
        "print(message)"
      ],
      "metadata": {
        "colab": {
          "base_uri": "https://localhost:8080/"
        },
        "id": "O78rAHcaS5io",
        "outputId": "d5f0a0aa-07d9-4309-e64b-6c71aecd167e"
      },
      "execution_count": 107,
      "outputs": [
        {
          "output_type": "stream",
          "name": "stdout",
          "text": [
            "Guess what my favorite number is... joking! I'll just tell you. It's 6.\n"
          ]
        }
      ]
    },
    {
      "cell_type": "code",
      "source": [
        "# say hello to everyone\n",
        "print(\"hello python people\")"
      ],
      "metadata": {
        "colab": {
          "base_uri": "https://localhost:8080/"
        },
        "id": "M3m0y8ijUX7n",
        "outputId": "5ce303bf-42d6-42cf-8d93-b61cc9436977"
      },
      "execution_count": 108,
      "outputs": [
        {
          "output_type": "stream",
          "name": "stdout",
          "text": [
            "hello python people\n"
          ]
        }
      ]
    },
    {
      "cell_type": "code",
      "source": [
        "2.12\n",
        "import this"
      ],
      "metadata": {
        "colab": {
          "base_uri": "https://localhost:8080/"
        },
        "id": "1ZbJDZHhU0fq",
        "outputId": "0a7f0689-94b0-4fb5-f4dd-64fe4b2ae7eb"
      },
      "execution_count": 109,
      "outputs": [
        {
          "output_type": "stream",
          "name": "stdout",
          "text": [
            "The Zen of Python, by Tim Peters\n",
            "\n",
            "Beautiful is better than ugly.\n",
            "Explicit is better than implicit.\n",
            "Simple is better than complex.\n",
            "Complex is better than complicated.\n",
            "Flat is better than nested.\n",
            "Sparse is better than dense.\n",
            "Readability counts.\n",
            "Special cases aren't special enough to break the rules.\n",
            "Although practicality beats purity.\n",
            "Errors should never pass silently.\n",
            "Unless explicitly silenced.\n",
            "In the face of ambiguity, refuse the temptation to guess.\n",
            "There should be one-- and preferably only one --obvious way to do it.\n",
            "Although that way may not be obvious at first unless you're Dutch.\n",
            "Now is better than never.\n",
            "Although never is often better than *right* now.\n",
            "If the implementation is hard to explain, it's a bad idea.\n",
            "If the implementation is easy to explain, it may be a good idea.\n",
            "Namespaces are one honking great idea -- let's do more of those!\n"
          ]
        }
      ]
    }
  ]
}