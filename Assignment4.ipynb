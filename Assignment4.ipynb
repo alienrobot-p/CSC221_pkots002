{
  "nbformat": 4,
  "nbformat_minor": 0,
  "metadata": {
    "colab": {
      "provenance": [],
      "authorship_tag": "ABX9TyPsXW9P+BKH6SO03pQQxRDE",
      "include_colab_link": true
    },
    "kernelspec": {
      "name": "python3",
      "display_name": "Python 3"
    },
    "language_info": {
      "name": "python"
    }
  },
  "cells": [
    {
      "cell_type": "markdown",
      "metadata": {
        "id": "view-in-github",
        "colab_type": "text"
      },
      "source": [
        "<a href=\"https://colab.research.google.com/github/alienrobot-p/CSC221_pkots002/blob/main/Assignment4.ipynb\" target=\"_parent\"><img src=\"https://colab.research.google.com/assets/colab-badge.svg\" alt=\"Open In Colab\"/></a>"
      ]
    },
    {
      "cell_type": "code",
      "execution_count": 1,
      "metadata": {
        "colab": {
          "base_uri": "https://localhost:8080/"
        },
        "id": "1ahZ-EyYl28j",
        "outputId": "dc32e3a2-27b4-4cfa-a7d2-d0966c75cf9a"
      },
      "outputs": [
        {
          "output_type": "stream",
          "name": "stdout",
          "text": [
            "My first bicycle was a Trek.\n"
          ]
        }
      ],
      "source": [
        "bicycles = ['trek', 'cannondale', 'redline', 'specialized']\n",
        "message = f\"My first bicycle was a {bicycles[0].title()}.\"\n",
        "print(message)"
      ]
    },
    {
      "cell_type": "code",
      "source": [
        "#Try it yourself 3.1-3.3\n",
        "friends = ['maggie', 'liv', 'rylie', 'pat']\n",
        "print(friends[0])\n",
        "print(friends[1])\n",
        "print(friends[2])\n",
        "print(friends[3])\n",
        "\n",
        "message0 = f\"Are you still gonna stop by work, {friends[0].title()}?\"\n",
        "print(message0)\n",
        "message1 = f\"Are you still gonna stop by work, {friends[1].title()}?\"\n",
        "print(message1)\n",
        "message2 = f\"Are you still gonna stop by work, {friends[2].title()}?\"\n",
        "print(message2)\n",
        "message3 = f\"Are you still gonna stop by work, {friends[3].title()}?\"\n",
        "print(message3)\n",
        "\n",
        "transportation = ['chrysler', 'plane']\n",
        "print(f\"I want a {transportation[0].format()}so I can match with my boss\")\n",
        "print(f\"I haven't been on a {transportation[1].format()} in so long!\")"
      ],
      "metadata": {
        "colab": {
          "base_uri": "https://localhost:8080/"
        },
        "id": "PN7hUXoKl7a9",
        "outputId": "dac7a6b9-5b4a-4b89-c984-57e26282cdfe"
      },
      "execution_count": 2,
      "outputs": [
        {
          "output_type": "stream",
          "name": "stdout",
          "text": [
            "maggie\n",
            "liv\n",
            "rylie\n",
            "pat\n",
            "Are you still gonna stop by work, Maggie?\n",
            "Are you still gonna stop by work, Liv?\n",
            "Are you still gonna stop by work, Rylie?\n",
            "Are you still gonna stop by work, Pat?\n",
            "I want a chryslerso I can match with my boss\n",
            "I haven't been on a plane in so long!\n"
          ]
        }
      ]
    },
    {
      "cell_type": "code",
      "source": [
        "dinner_list = ['maggie', 'liv', 'bill']\n",
        "print(dinner_list)\n",
        "\n",
        "print(f\"You're invited to dinner, {dinner_list[0].title()}\")\n",
        "\n",
        "print(f\"You're invited to dinner, {dinner_list[1].title()}\")\n",
        "\n",
        "print(f\"You're invited to dinner, {dinner_list[2].title()}\")\n",
        "\n",
        "print(\"Liv cant't make it\")\n",
        "\n",
        "del dinner_list[1]\n",
        "dinner_list.append('izzy')\n",
        "\n",
        "print(dinner_list)\n",
        "print(f\"You're invited to dinner, {dinner_list[0].title()}\")\n",
        "print(f\"You're invited to dinner, {dinner_list[1].title()}\")\n",
        "print(f\"You're invited to dinner, {dinner_list[2].title()}\")\n",
        "\n",
        "dinner_list.insert(0, \"colin\")\n",
        "dinner_list.insert(2, \"pat\")\n",
        "dinner_list.append(\"rylie\")\n",
        "print(dinner_list)\n",
        "\n",
        "print(f\"You're invited to dinner, {dinner_list[0].title()}\")\n",
        "print(f\"You're invited to dinner, {dinner_list[1].title()}\")\n",
        "print(f\"You're invited to dinner, {dinner_list[2].title()}\")\n",
        "print(f\"You're invited to dinner, {dinner_list[3].title()}\")\n",
        "print(f\"You're invited to dinner, {dinner_list[4].title()}\")\n",
        "print(f\"You're invited to dinner, {dinner_list[5].title()}\")\n",
        "\n",
        "print(dinner_list)\n",
        "print('sorry, I can only invite two people')\n",
        "\n",
        "name = dinner_list.pop(0)\n",
        "print(f\"sorry, I can't invite you {name.title()}\")\n",
        "name2 = dinner_list.pop(1)\n",
        "print(f\"sorry, I can't invite you {name2.title()}\")\n",
        "name3 = dinner_list.pop(2)\n",
        "print(f\"sorry, I can't invite you {name3.title()}\")\n",
        "name4 = dinner_list.pop(2)\n",
        "print(f\"sorry, I can't invite you {name4.title()}\")\n",
        "print(dinner_list)\n",
        "print(f\"you're still invited {dinner_list[0].title()}\")\n",
        "print(f\"you're still invited {dinner_list[1].title()}\")\n",
        "print(dinner_list)\n",
        "del dinner_list[0]\n",
        "del dinner_list[0]\n",
        "print(dinner_list)"
      ],
      "metadata": {
        "colab": {
          "base_uri": "https://localhost:8080/"
        },
        "id": "YcaddOVJl8AE",
        "outputId": "a5fa5194-2553-4cc4-ba12-24ae38ef8906"
      },
      "execution_count": 3,
      "outputs": [
        {
          "output_type": "stream",
          "name": "stdout",
          "text": [
            "['maggie', 'liv', 'bill']\n",
            "You're invited to dinner, Maggie\n",
            "You're invited to dinner, Liv\n",
            "You're invited to dinner, Bill\n",
            "Liv cant't make it\n",
            "['maggie', 'bill', 'izzy']\n",
            "You're invited to dinner, Maggie\n",
            "You're invited to dinner, Bill\n",
            "You're invited to dinner, Izzy\n",
            "['colin', 'maggie', 'pat', 'bill', 'izzy', 'rylie']\n",
            "You're invited to dinner, Colin\n",
            "You're invited to dinner, Maggie\n",
            "You're invited to dinner, Pat\n",
            "You're invited to dinner, Bill\n",
            "You're invited to dinner, Izzy\n",
            "You're invited to dinner, Rylie\n",
            "['colin', 'maggie', 'pat', 'bill', 'izzy', 'rylie']\n",
            "sorry, I can only invite two people\n",
            "sorry, I can't invite you Colin\n",
            "sorry, I can't invite you Pat\n",
            "sorry, I can't invite you Izzy\n",
            "sorry, I can't invite you Rylie\n",
            "['maggie', 'bill']\n",
            "you're still invited Maggie\n",
            "you're still invited Bill\n",
            "['maggie', 'bill']\n",
            "[]\n"
          ]
        }
      ]
    },
    {
      "cell_type": "code",
      "source": [
        "places = ['greece', 'las vegas', 'turkey', 'san francisco', 'france']\n",
        "print(places)\n",
        "print(sorted(places))\n",
        "places.reverse()\n",
        "print(places)\n",
        "places.reverse()\n",
        "print(places)\n",
        "places.sort()\n",
        "print(places)\n",
        "places.sort()\n",
        "print(places)\n",
        "\n",
        "dinner_list = ['maggie', 'liv', 'bill']\n",
        "len(dinner_list)\n",
        "\n"
      ],
      "metadata": {
        "colab": {
          "base_uri": "https://localhost:8080/"
        },
        "id": "Ay9Op7EFl_42",
        "outputId": "3668f02a-8e3e-465b-a162-4c339ca2d81f"
      },
      "execution_count": 4,
      "outputs": [
        {
          "output_type": "stream",
          "name": "stdout",
          "text": [
            "['greece', 'las vegas', 'turkey', 'san francisco', 'france']\n",
            "['france', 'greece', 'las vegas', 'san francisco', 'turkey']\n",
            "['france', 'san francisco', 'turkey', 'las vegas', 'greece']\n",
            "['greece', 'las vegas', 'turkey', 'san francisco', 'france']\n",
            "['france', 'greece', 'las vegas', 'san francisco', 'turkey']\n",
            "['france', 'greece', 'las vegas', 'san francisco', 'turkey']\n"
          ]
        },
        {
          "output_type": "execute_result",
          "data": {
            "text/plain": [
              "3"
            ]
          },
          "metadata": {},
          "execution_count": 4
        }
      ]
    },
    {
      "cell_type": "code",
      "source": [
        "#I dont know what I did wrong for this\n",
        "animal = ['gerbils', 'tuple', 'tauto', 'pets']\n",
        "print(animal)\n",
        "print(animal[0].title())\n",
        "print(f\"I have two {animal[0].title()}\")\n",
        "animal[3]= 'rodent'\n",
        "animal.append('pets')\n",
        "animal.insert(0,'thonny')\n",
        "print(animal)\n",
        "del animal[0]\n",
        "print(animal)\n",
        "popped_animal = animal.pop()\n",
        "print(animal)\n",
        "creature = animal.pop(0)\n",
        "print(f\"I love the word, '{animal[0].title()}' \")\n",
        "animal.remove('rodent')\n",
        "print(animal)\n",
        "animal.sort()\n",
        "print(animal)\n",
        "animal.sort(reverse=True)\n",
        "print(animal)\n",
        "animal.reverse()\n",
        "print(animal)\n",
        "len(animal)\n"
      ],
      "metadata": {
        "colab": {
          "base_uri": "https://localhost:8080/",
          "height": 242
        },
        "id": "W7er1dz-mEXs",
        "outputId": "edd28305-9aa9-44fb-e005-ad33c0c97ca8"
      },
      "execution_count": 17,
      "outputs": [
        {
          "output_type": "error",
          "ename": "TypeError",
          "evalue": "ignored",
          "traceback": [
            "\u001b[0;31m---------------------------------------------------------------------------\u001b[0m",
            "\u001b[0;31mTypeError\u001b[0m                                 Traceback (most recent call last)",
            "\u001b[0;32m<ipython-input-17-bca5e4005f6d>\u001b[0m in \u001b[0;36m<cell line: 2>\u001b[0;34m()\u001b[0m\n\u001b[1;32m      1\u001b[0m \u001b[0manimal\u001b[0m \u001b[0;34m=\u001b[0m \u001b[0;34m[\u001b[0m\u001b[0;34m'gerbils'\u001b[0m\u001b[0;34m,\u001b[0m \u001b[0;34m'tuple'\u001b[0m\u001b[0;34m,\u001b[0m \u001b[0;34m'tauto'\u001b[0m\u001b[0;34m,\u001b[0m \u001b[0;34m'pets'\u001b[0m\u001b[0;34m]\u001b[0m\u001b[0;34m\u001b[0m\u001b[0;34m\u001b[0m\u001b[0m\n\u001b[0;32m----> 2\u001b[0;31m \u001b[0mprint\u001b[0m\u001b[0;34m(\u001b[0m\u001b[0manimal\u001b[0m\u001b[0;34m)\u001b[0m\u001b[0;34m\u001b[0m\u001b[0;34m\u001b[0m\u001b[0m\n\u001b[0m\u001b[1;32m      3\u001b[0m \u001b[0mprint\u001b[0m\u001b[0;34m(\u001b[0m\u001b[0manimal\u001b[0m\u001b[0;34m[\u001b[0m\u001b[0;36m0\u001b[0m\u001b[0;34m]\u001b[0m\u001b[0;34m.\u001b[0m\u001b[0mtitle\u001b[0m\u001b[0;34m(\u001b[0m\u001b[0;34m)\u001b[0m\u001b[0;34m)\u001b[0m\u001b[0;34m\u001b[0m\u001b[0;34m\u001b[0m\u001b[0m\n\u001b[1;32m      4\u001b[0m \u001b[0mprint\u001b[0m\u001b[0;34m(\u001b[0m\u001b[0;34mf\"I have two {animal[0].title()}\"\u001b[0m\u001b[0;34m)\u001b[0m\u001b[0;34m\u001b[0m\u001b[0;34m\u001b[0m\u001b[0m\n\u001b[1;32m      5\u001b[0m \u001b[0manimal\u001b[0m\u001b[0;34m[\u001b[0m\u001b[0;36m3\u001b[0m\u001b[0;34m]\u001b[0m\u001b[0;34m=\u001b[0m \u001b[0;34m'rodent'\u001b[0m\u001b[0;34m\u001b[0m\u001b[0;34m\u001b[0m\u001b[0m\n",
            "\u001b[0;31mTypeError\u001b[0m: 'str' object is not callable"
          ]
        }
      ]
    },
    {
      "cell_type": "code",
      "source": [
        "for i in range(60, 86):\n",
        "    if i % 7 == 0:\n",
        "        cube = i ** 3\n",
        "        print(f\"The cube of {i} is {cube}\")\n"
      ],
      "metadata": {
        "colab": {
          "base_uri": "https://localhost:8080/"
        },
        "id": "kRIsDkjjAGnF",
        "outputId": "1223c1eb-6563-478c-bfe5-12726a5c97f0"
      },
      "execution_count": 1,
      "outputs": [
        {
          "output_type": "stream",
          "name": "stdout",
          "text": [
            "The cube of 63 is 250047\n",
            "The cube of 70 is 343000\n",
            "The cube of 77 is 456533\n",
            "The cube of 84 is 592704\n"
          ]
        }
      ]
    },
    {
      "cell_type": "code",
      "source": [
        "# Define the equation\n",
        "def calculate_y(x):\n",
        "    return 7.4 * x + 51\n",
        "\n",
        "# Define the set of values\n",
        "values = [40, 50, 120, -8, 6]\n",
        "\n",
        "# Calculate y for each value and store the results in a list\n",
        "results = [calculate_y(x) for x in values]\n",
        "\n",
        "# Print the results\n",
        "for x, y in zip(values, results):\n",
        "    print(f\"For x = {x}, y = {y}\")\n"
      ],
      "metadata": {
        "colab": {
          "base_uri": "https://localhost:8080/"
        },
        "id": "F5h5oZF_Anz8",
        "outputId": "557c4c6e-55d4-4d12-b8e9-ed23b1d92a07"
      },
      "execution_count": 2,
      "outputs": [
        {
          "output_type": "stream",
          "name": "stdout",
          "text": [
            "For x = 40, y = 347.0\n",
            "For x = 50, y = 421.0\n",
            "For x = 120, y = 939.0\n",
            "For x = -8, y = -8.200000000000003\n",
            "For x = 6, y = 95.4\n"
          ]
        }
      ]
    }
  ]
}