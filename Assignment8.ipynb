{
  "nbformat": 4,
  "nbformat_minor": 0,
  "metadata": {
    "colab": {
      "provenance": [],
      "authorship_tag": "ABX9TyP6T3Ew1rgXwgGlWJvH8QXR",
      "include_colab_link": true
    },
    "kernelspec": {
      "name": "python3",
      "display_name": "Python 3"
    },
    "language_info": {
      "name": "python"
    }
  },
  "cells": [
    {
      "cell_type": "markdown",
      "metadata": {
        "id": "view-in-github",
        "colab_type": "text"
      },
      "source": [
        "<a href=\"https://colab.research.google.com/github/alienrobot-p/CSC221_pkots002/blob/main/Assignment8.ipynb\" target=\"_parent\"><img src=\"https://colab.research.google.com/assets/colab-badge.svg\" alt=\"Open In Colab\"/></a>"
      ]
    },
    {
      "cell_type": "code",
      "execution_count": null,
      "metadata": {
        "id": "gFT6nez7qkUW"
      },
      "outputs": [],
      "source": [
        "#Phoebe Kotsogiannis\n",
        "#Assignment 8\n",
        "#Chapter 7"
      ]
    },
    {
      "cell_type": "code",
      "source": [
        "#how the input() function works"
      ],
      "metadata": {
        "id": "ZizHgixiDzm-"
      },
      "execution_count": null,
      "outputs": []
    },
    {
      "cell_type": "code",
      "source": [
        "message = input(\"Tell me something, and I will repeat it back to you: \")\n",
        "print(message)"
      ],
      "metadata": {
        "colab": {
          "base_uri": "https://localhost:8080/"
        },
        "id": "_UubN11QrVTC",
        "outputId": "a2d3c3a7-8933-45d1-c18c-edf51c354255"
      },
      "execution_count": null,
      "outputs": [
        {
          "output_type": "stream",
          "name": "stdout",
          "text": [
            "Tell me something, and I will repeat it back to you: jkz\n",
            "jkz\n"
          ]
        }
      ]
    },
    {
      "cell_type": "code",
      "source": [
        "#Writing clear prompts"
      ],
      "metadata": {
        "id": "Qp7tfHgnD_Y8"
      },
      "execution_count": null,
      "outputs": []
    },
    {
      "cell_type": "code",
      "source": [
        "name = input(\"Please enter your name: \")\n",
        "print(f\"\\nHello, {name}!\")"
      ],
      "metadata": {
        "colab": {
          "base_uri": "https://localhost:8080/"
        },
        "id": "gHeEK3HGtWQq",
        "outputId": "fad5d089-b7b8-4241-b3e8-68a1cf6400ab"
      },
      "execution_count": null,
      "outputs": [
        {
          "output_type": "stream",
          "name": "stdout",
          "text": [
            "Please enter your name: phoebe\n",
            "\n",
            "Hello, phoebe!\n"
          ]
        }
      ]
    },
    {
      "cell_type": "code",
      "source": [
        "prompt = \"If you share your name, we can personalize the messages you see.\"\n",
        "prompt += \"\\nWhat is your first name? \"\n",
        "\n",
        "name = input(prompt)\n",
        "print(f\"\\nHello, {name}!\")\n"
      ],
      "metadata": {
        "colab": {
          "base_uri": "https://localhost:8080/"
        },
        "id": "_AK4joLptnFr",
        "outputId": "8fed6e6b-0283-4c44-9837-3883a250d9bd"
      },
      "execution_count": null,
      "outputs": [
        {
          "output_type": "stream",
          "name": "stdout",
          "text": [
            "If you share your name, we can personalize the messages you see.\n",
            "What is your first name? lo\n",
            "\n",
            "Hello, lo!\n"
          ]
        }
      ]
    },
    {
      "cell_type": "code",
      "source": [
        "#Using int() to accept numerical input"
      ],
      "metadata": {
        "id": "r_yymoh2EEAh"
      },
      "execution_count": null,
      "outputs": []
    },
    {
      "cell_type": "code",
      "source": [
        "age = input(\"how old are you? \")\n",
        "age = int(age)\n",
        "age >= 18"
      ],
      "metadata": {
        "colab": {
          "base_uri": "https://localhost:8080/"
        },
        "id": "2WU8jcHm_ilf",
        "outputId": "ccd6d870-b388-4622-ee20-772d61e0c994"
      },
      "execution_count": null,
      "outputs": [
        {
          "name": "stdout",
          "output_type": "stream",
          "text": [
            "how old are you? 12\n"
          ]
        },
        {
          "output_type": "execute_result",
          "data": {
            "text/plain": [
              "False"
            ]
          },
          "metadata": {},
          "execution_count": 4
        }
      ]
    },
    {
      "cell_type": "code",
      "source": [
        "height = input(\"how tall are you, in inches? \")\n",
        "height = int(height)\n",
        "\n",
        "if height >= 48:\n",
        "    print(\"\\nYou're tall enough to ride :)\")\n",
        "else:\n",
        "    print(\"\\nyou'll be able to ride when youre a little older\")\n"
      ],
      "metadata": {
        "colab": {
          "base_uri": "https://localhost:8080/"
        },
        "id": "Hagw2XV4C79a",
        "outputId": "2f8cecbd-d310-49c5-e8a3-2bb90ac42596"
      },
      "execution_count": null,
      "outputs": [
        {
          "output_type": "stream",
          "name": "stdout",
          "text": [
            "how tall are you, in inches? 13\n",
            "\n",
            "you'll be able to ride when youre a little older\n"
          ]
        }
      ]
    },
    {
      "cell_type": "code",
      "source": [
        "#The modulo operator"
      ],
      "metadata": {
        "id": "WjF_Tx2lDd7h"
      },
      "execution_count": null,
      "outputs": []
    },
    {
      "cell_type": "code",
      "source": [
        "4 % 3\n",
        "5 % 3\n",
        "6 % 3\n",
        "7 % 3"
      ],
      "metadata": {
        "colab": {
          "base_uri": "https://localhost:8080/"
        },
        "id": "_s2ACp0CEOyQ",
        "outputId": "67ac88bc-cbf9-462b-d813-e4e2467336e8"
      },
      "execution_count": null,
      "outputs": [
        {
          "output_type": "execute_result",
          "data": {
            "text/plain": [
              "1"
            ]
          },
          "metadata": {},
          "execution_count": 11
        }
      ]
    },
    {
      "cell_type": "code",
      "source": [
        "number = input(\"enter a number, and i'll tell you if its even or odd: \")\n",
        "number = int(number)\n",
        "\n",
        "if number % 2 == 0:\n",
        "    print(f\"\\nthe number {number} is even\")\n",
        "else:\n",
        "    print(f\"\\nthe {number} is odd\")"
      ],
      "metadata": {
        "colab": {
          "base_uri": "https://localhost:8080/"
        },
        "id": "CPDkUEwFEakT",
        "outputId": "c0eaf7a4-0a02-42e8-f4d0-719af57aa25c"
      },
      "execution_count": null,
      "outputs": [
        {
          "output_type": "stream",
          "name": "stdout",
          "text": [
            "enter a number, and i'll tell you if its even or odd: 8\n",
            "\n",
            "the number 8 is even\n"
          ]
        }
      ]
    },
    {
      "cell_type": "code",
      "source": [
        "#Try it yourself: 7.1\n",
        "message = input(\"what kinda rental car do u want: \")\n",
        "\n",
        "print(f\"\\nI want... a {message}\")\n",
        "\n",
        "print(f\"\\nokayyyy, I'll go see if I can find u a {message}\")"
      ],
      "metadata": {
        "colab": {
          "base_uri": "https://localhost:8080/"
        },
        "id": "5P1jwxltFnVz",
        "outputId": "7442a0b2-374e-4b1b-b098-ccd410b9e94d"
      },
      "execution_count": null,
      "outputs": [
        {
          "output_type": "stream",
          "name": "stdout",
          "text": [
            "what kinda rental car do u want: horse\n",
            "\n",
            "I want... a horse\n",
            "\n",
            "okayyyy, I'll go see if I can find u a horse\n"
          ]
        }
      ]
    },
    {
      "cell_type": "code",
      "source": [
        "#try it yourself: 7.3\n",
        "numb_ask = input(\"enter a number \")\n",
        "number = int(numb_ask)\n",
        "\n",
        "if number % 10 == 0:\n",
        "    print(f\"{number} is a multiple of 10\")\n",
        "else:\n",
        "    print(f\"{number} is not a multiple of 10\")"
      ],
      "metadata": {
        "colab": {
          "base_uri": "https://localhost:8080/"
        },
        "id": "CBR1nlTAHdaw",
        "outputId": "1a9e68dc-469d-40b0-b67b-57a8129f6284"
      },
      "execution_count": null,
      "outputs": [
        {
          "output_type": "stream",
          "name": "stdout",
          "text": [
            "enter a number 100\n",
            "100 is a multiple of 10\n"
          ]
        }
      ]
    },
    {
      "cell_type": "code",
      "source": [
        "#Introducing while loops: the while loop in action\n",
        "current_number = 1\n",
        "while current_number <= 5:\n",
        "    print(current_number)\n",
        "    current_number += 1"
      ],
      "metadata": {
        "colab": {
          "base_uri": "https://localhost:8080/"
        },
        "id": "fr3yFf1BJZD3",
        "outputId": "9bad5eb6-fcea-4be6-8cfb-1e58d3511918"
      },
      "execution_count": null,
      "outputs": [
        {
          "output_type": "stream",
          "name": "stdout",
          "text": [
            "1\n",
            "2\n",
            "3\n",
            "4\n",
            "5\n"
          ]
        }
      ]
    },
    {
      "cell_type": "code",
      "source": [
        "#letting the user chose when to quit\n",
        "prompt = \"\\ntell me something, and i will repeat it back to u:\"\n",
        "prompt += \"\\nenter 'quit' to end the program \"\n",
        "\n",
        "message = \"\"\n",
        "while message != 'quit':\n",
        "    message = input(prompt)\n",
        "    print(message)"
      ],
      "metadata": {
        "colab": {
          "base_uri": "https://localhost:8080/"
        },
        "id": "WwBvT8WzMKzL",
        "outputId": "627ec3fd-64e1-4d25-d692-28e5efb6f42b"
      },
      "execution_count": 1,
      "outputs": [
        {
          "output_type": "stream",
          "name": "stdout",
          "text": [
            "\n",
            "tell me something, and i will repeat it back to u:\n",
            "enter 'quit' to end the program quit\n",
            "quit\n"
          ]
        }
      ]
    },
    {
      "cell_type": "code",
      "source": [
        "#using a flag\n",
        "prompt = \"\\nTell me something, and I will repeat it back to you:\"\n",
        "prompt += \"\\nEnter 'quit' to end the program. \"\n",
        "active = True\n",
        "while active:\n",
        "    message = input(prompt)\n",
        "\n",
        "    if message == 'quit':\n",
        "        active = False\n",
        "    else:\n",
        "        print(message)"
      ],
      "metadata": {
        "colab": {
          "base_uri": "https://localhost:8080/"
        },
        "id": "OJ-IeWbQipE1",
        "outputId": "6c223be0-7e70-4345-860e-b37af3ca8e8d"
      },
      "execution_count": 3,
      "outputs": [
        {
          "name": "stdout",
          "output_type": "stream",
          "text": [
            "\n",
            "Tell me something, and I will repeat it back to you:\n",
            "Enter 'quit' to end the program. quit\n"
          ]
        }
      ]
    },
    {
      "cell_type": "code",
      "source": [
        "#using break to exit a loop\n",
        "prompt = \"\\nPlease enter the name of a city you have visited:\"\n",
        "prompt += \"\\n(Enter 'quit' when you are finished.) \"\n",
        "\n",
        "while True:\n",
        "    city = input(prompt)\n",
        "\n",
        "    if city == 'quit':\n",
        "        break\n",
        "    else:\n",
        "        print(f\"I'd love to go to {city.title()}\")"
      ],
      "metadata": {
        "colab": {
          "base_uri": "https://localhost:8080/"
        },
        "id": "6kMsfaL0jdZC",
        "outputId": "653f1994-7e6b-4796-e21f-3f929db0e7c4"
      },
      "execution_count": 5,
      "outputs": [
        {
          "name": "stdout",
          "output_type": "stream",
          "text": [
            "\n",
            "Please enter the name of a city you have visited:\n",
            "(Enter 'quit' when you are finished.) new york\n",
            "I'd love to go to New York\n",
            "\n",
            "Please enter the name of a city you have visited:\n",
            "(Enter 'quit' when you are finished.) san fran\n",
            "I'd love to go to San Fran\n",
            "\n",
            "Please enter the name of a city you have visited:\n",
            "(Enter 'quit' when you are finished.) auit\n",
            "I'd love to go to Auit\n",
            "\n",
            "Please enter the name of a city you have visited:\n",
            "(Enter 'quit' when you are finished.) quit\n"
          ]
        }
      ]
    },
    {
      "cell_type": "code",
      "source": [
        "#using continue in a loop\n",
        "current_number = 0\n",
        "while current_number < 10:\n",
        "    current_number += 1\n",
        "    if current_number % 2 == 0:\n",
        "        continue\n",
        "\n",
        "    print(current_number)"
      ],
      "metadata": {
        "colab": {
          "base_uri": "https://localhost:8080/"
        },
        "id": "QItjwuK-j_qi",
        "outputId": "5fc05366-8de6-41e8-a390-c35c5ae3ba89"
      },
      "execution_count": 7,
      "outputs": [
        {
          "output_type": "stream",
          "name": "stdout",
          "text": [
            "1\n",
            "3\n",
            "5\n",
            "7\n",
            "9\n"
          ]
        }
      ]
    },
    {
      "cell_type": "code",
      "source": [
        "#avoiding infinite loops\n",
        "x = 1\n",
        "while x <= 5:\n",
        "    print(x)\n",
        "    x += 1"
      ],
      "metadata": {
        "colab": {
          "base_uri": "https://localhost:8080/"
        },
        "id": "g2TE6bwEko60",
        "outputId": "d2c8e1cc-f9d3-4ee7-9596-4dcdfcaf6ee4"
      },
      "execution_count": 11,
      "outputs": [
        {
          "output_type": "stream",
          "name": "stdout",
          "text": [
            "1\n",
            "2\n",
            "3\n",
            "4\n",
            "5\n"
          ]
        }
      ]
    },
    {
      "cell_type": "code",
      "source": [
        "#7.5\n",
        "while True:\n",
        "    try:\n",
        "        age = int(input(\"Please enter your age (or enter 0 to quit): \"))\n",
        "\n",
        "        if age == 0:\n",
        "            print(\"quitting!\")\n",
        "            break  # Exit the loop if the user enters 0 to quit.\n",
        "\n",
        "        if age < 3:\n",
        "            ticket_price = 0\n",
        "        elif age <= 12:\n",
        "            ticket_price = 10\n",
        "        else:\n",
        "            ticket_price = 15\n",
        "\n",
        "        print(f\"The cost of your movie ticket is ${ticket_price}\")\n",
        "\n",
        "    except ValueError:\n",
        "        print(\"Invalid.\")\n"
      ],
      "metadata": {
        "colab": {
          "base_uri": "https://localhost:8080/"
        },
        "id": "GdAgMbWphnKv",
        "outputId": "c51e8b3f-3fa9-4519-9caf-30f1a3d0754c"
      },
      "execution_count": 10,
      "outputs": [
        {
          "output_type": "stream",
          "name": "stdout",
          "text": [
            "Please enter your age (or enter 0 to quit): 0\n",
            "quitting!\n"
          ]
        }
      ]
    },
    {
      "cell_type": "code",
      "source": [
        "#7.6\n",
        "#break value\n",
        "while True:\n",
        "    try:\n",
        "        age = int(input(\"Please enter your age (or enter 0 to quit): \"))\n",
        "\n",
        "        if age == 0:\n",
        "            print(\"quitting!\")\n",
        "            break\n",
        "\n",
        "        if age < 3:\n",
        "            ticket_price = 0\n",
        "        elif age <= 12:\n",
        "            ticket_price = 10\n",
        "        else:\n",
        "            ticket_price = 15\n",
        "\n",
        "        print(f\"The cost of your movie ticket is ${ticket_price}\")\n",
        "\n",
        "    except ValueError:\n",
        "        print(\"Invalid.\")\n",
        "\n",
        "#active\n",
        "active = True\n",
        "\n",
        "while active:\n",
        "    age = int(input(\"Please enter your age (or enter 0 to quit): \"))\n",
        "\n",
        "    if age == 0:\n",
        "        print(\"quitting!\")\n",
        "        active = False\n",
        "    elif age < 0:\n",
        "        print(\"Invalid\")\n",
        "    elif age < 3:\n",
        "        ticket_price = 0\n",
        "    elif age <= 12:\n",
        "        ticket_price = 10\n",
        "    else:\n",
        "        ticket_price = 15\n",
        "\n",
        "    print(f\"The cost of your movie ticket is ${ticket_price}\")\n"
      ],
      "metadata": {
        "colab": {
          "base_uri": "https://localhost:8080/"
        },
        "id": "0CgavlY2jC-T",
        "outputId": "f3d07a58-22b1-41e3-8bb2-e585f00e2330"
      },
      "execution_count": 24,
      "outputs": [
        {
          "output_type": "stream",
          "name": "stdout",
          "text": [
            "Please enter your age (or enter 0 to quit): 0\n",
            "quitting!\n",
            "Please enter your age (or enter 0 to quit): 0\n",
            "quitting!\n",
            "The cost of your movie ticket is $10\n"
          ]
        }
      ]
    },
    {
      "cell_type": "code",
      "source": [
        "#Using a while loop with lists and dictionaries\n",
        "#moving items from one list to another\n",
        "\n",
        "unconfirmed_users = ['alice', 'brian', 'candace']\n",
        "confirmed_users = []\n",
        "\n",
        "while unconfirmed_users:\n",
        "    current_user = unconfirmed_users.pop()\n",
        "\n",
        "    print(f\"Verifying user: {current_user.title()}\")\n",
        "    confirmed_users.append(current_user)\n",
        "\n",
        "print(\"\\nThe following users have been confirmed:\")\n",
        "for confirmed_user in confirmed_users:\n",
        "    print(confirmed_user.title())"
      ],
      "metadata": {
        "colab": {
          "base_uri": "https://localhost:8080/"
        },
        "id": "Vs5Q7qz7m1QP",
        "outputId": "a14604b0-cd6f-43a3-a112-32d529d99f17"
      },
      "execution_count": 26,
      "outputs": [
        {
          "output_type": "stream",
          "name": "stdout",
          "text": [
            "Verifying user: Candace\n",
            "Verifying user: Brian\n",
            "Verifying user: Alice\n",
            "\n",
            "The following users have been confirmed:\n",
            "Candace\n",
            "Brian\n",
            "Alice\n"
          ]
        }
      ]
    },
    {
      "cell_type": "code",
      "source": [
        "#removing all instances of specific values from a list\n",
        "pets = ['dog', 'cat', 'dog', 'goldfish', 'cat', 'rabbit', 'cat']\n",
        "print(pets)\n",
        "\n",
        "while 'cat' in pets:\n",
        "    pets.remove('cat')\n",
        "\n",
        "print(pets)"
      ],
      "metadata": {
        "colab": {
          "base_uri": "https://localhost:8080/"
        },
        "id": "MfdL7DAJt4sa",
        "outputId": "2505bfd8-e7a6-4d7d-a6fc-2cd26f1a5aaf"
      },
      "execution_count": 28,
      "outputs": [
        {
          "output_type": "stream",
          "name": "stdout",
          "text": [
            "['dog', 'cat', 'dog', 'goldfish', 'cat', 'rabbit', 'cat']\n",
            "['dog', 'dog', 'goldfish', 'rabbit']\n"
          ]
        }
      ]
    },
    {
      "cell_type": "code",
      "source": [
        "#filling a dictionary with user input\n",
        "responses = {}\n",
        "\n",
        "polling_active = True\n",
        "while polling_active:\n",
        "    name = input(\"\\nname pls \")\n",
        "    response = input(\"what mountain do u wanna climb \")\n",
        "\n",
        "    responses[name] = response\n",
        "\n",
        "    repeat = input(\"let another person respond (yes/no) \")\n",
        "    if repeat == 'no':\n",
        "        polling_active = False\n",
        "\n",
        "print(\"\\n--- Poll Results ---\")\n",
        "for name, response in responses.items():\n",
        "    print(f\"{name} would like to climb {response}.\")"
      ],
      "metadata": {
        "colab": {
          "base_uri": "https://localhost:8080/"
        },
        "id": "5nCOolRHumvl",
        "outputId": "18d5c280-bcf7-479e-e74f-ff096a53d823"
      },
      "execution_count": 35,
      "outputs": [
        {
          "output_type": "stream",
          "name": "stdout",
          "text": [
            "\n",
            "name pls phoebe\n",
            "what mountain do u wanna climb california\n",
            "let another person respond (yes/no) pat\n",
            "\n",
            "name pls Sarah\n",
            "what mountain do u wanna climb new jersey\n",
            "let another person respond (yes/no) no\n",
            "\n",
            "--- Poll Results ---\n",
            "phoebe would like to climb california.\n",
            "Sarah would like to climb new jersey.\n"
          ]
        }
      ]
    },
    {
      "cell_type": "code",
      "source": [
        "#7.8\n",
        "sandwich_orders = [\"tuna\", \"turkey\", \"vegetarian\", \"pastrami\", \"ham\", \"pastrami\", \"roast beef\"]\n",
        "finished_sandwiches = []\n",
        "\n",
        "print(\"Sandwich Orders:\")\n",
        "while sandwich_orders:\n",
        "    current_sandwich = sandwich_orders.pop()\n",
        "    print(f\"I made your {current_sandwich} sandwich.\")\n",
        "    finished_sandwiches.append(current_sandwich)\n",
        "\n",
        "print(\"\\nFinished Sandwiches:\")\n",
        "for sandwich in finished_sandwiches:\n",
        "    print(sandwich)\n"
      ],
      "metadata": {
        "colab": {
          "base_uri": "https://localhost:8080/"
        },
        "id": "hngbwvzIxNoy",
        "outputId": "1b486795-2e10-4b53-faef-b6850a471bc6"
      },
      "execution_count": 42,
      "outputs": [
        {
          "output_type": "stream",
          "name": "stdout",
          "text": [
            "Sandwich Orders:\n",
            "I made your roast beef sandwich.\n",
            "I made your pastrami sandwich.\n",
            "I made your ham sandwich.\n",
            "I made your pastrami sandwich.\n",
            "I made your vegetarian sandwich.\n",
            "I made your turkey sandwich.\n",
            "I made your tuna sandwich.\n",
            "\n",
            "Finished Sandwiches:\n",
            "roast beef\n",
            "pastrami\n",
            "ham\n",
            "pastrami\n",
            "vegetarian\n",
            "turkey\n",
            "tuna\n"
          ]
        }
      ]
    }
  ]
}