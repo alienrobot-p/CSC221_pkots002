{
  "nbformat": 4,
  "nbformat_minor": 0,
  "metadata": {
    "colab": {
      "provenance": [],
      "authorship_tag": "ABX9TyPY82ur9vVZ8MJ2UNtUiHeP",
      "include_colab_link": true
    },
    "kernelspec": {
      "name": "python3",
      "display_name": "Python 3"
    },
    "language_info": {
      "name": "python"
    }
  },
  "cells": [
    {
      "cell_type": "markdown",
      "metadata": {
        "id": "view-in-github",
        "colab_type": "text"
      },
      "source": [
        "<a href=\"https://colab.research.google.com/github/alienrobot-p/CSC221_pkots002/blob/main/Assignment5.ipynb\" target=\"_parent\"><img src=\"https://colab.research.google.com/assets/colab-badge.svg\" alt=\"Open In Colab\"/></a>"
      ]
    },
    {
      "cell_type": "code",
      "source": [
        "#Phoebe Kotsogiannis\n",
        "#Assignment 5"
      ],
      "metadata": {
        "id": "fcpCPE8cTxNJ"
      },
      "execution_count": null,
      "outputs": []
    },
    {
      "cell_type": "code",
      "execution_count": null,
      "metadata": {
        "colab": {
          "base_uri": "https://localhost:8080/"
        },
        "id": "vsx2L4P8mFy5",
        "outputId": "0fd7b3d4-2f31-4361-81ee-5faa72c783a7"
      },
      "outputs": [
        {
          "output_type": "stream",
          "name": "stdout",
          "text": [
            "Audi\n",
            "BMW\n",
            "Subaru\n",
            "Toyota\n"
          ]
        }
      ],
      "source": [
        "cars = ['audi', 'bmw', 'subaru', 'toyota']\n",
        "\n",
        "for car in cars:\n",
        "    if car == 'bmw':\n",
        "        print(car.upper())\n",
        "    else:\n",
        "        print(car.title())\n"
      ]
    },
    {
      "cell_type": "code",
      "source": [
        "from IPython.utils.py3compat import re\n",
        "car = 'bmw'\n",
        "car == 'bmw'\n",
        "car == 'audi'\n",
        "car.lower() == 'bmw'\n",
        "car\n",
        "\n",
        "requested_topping = 'mushrooms'\n",
        "if requested_topping != 'anchovies':\n",
        "    print(\"hold the anchovies\")\n",
        "age = 18\n",
        "age == 18\n",
        "\n",
        "answer = 17\n",
        "if answer != 42:\n",
        "    print(\"that is not the correct answer. please try again\")\n",
        "age = 19\n",
        "age < 21\n",
        "age <= 21\n",
        "age_0 = 22\n",
        "age_1 = 22\n",
        "age_0 >= 21 and age_1 >= 21\n",
        "\n",
        "(age_0 >= 21) and (age_1 >= 21)\n",
        "\n",
        "requested_toppings = ['mushrooms', 'onions', 'pineapple']\n",
        "'mushrooms' in requested_topping\n",
        "'pepperoni' in requested_topping\n",
        "\n",
        "banned_users = ['andrew','carolina', 'david']\n",
        "user = 'marie'\n",
        "if user not in banned_users:\n",
        "    print(f\"{user.title()}, you can post a response if you wish\")\n",
        "\n",
        "game_active = True\n",
        "can_edit = False"
      ],
      "metadata": {
        "colab": {
          "base_uri": "https://localhost:8080/"
        },
        "id": "m6PqzIEDnC0Q",
        "outputId": "e81fd96f-3521-4434-d54c-d86a67bfa33c"
      },
      "execution_count": null,
      "outputs": [
        {
          "output_type": "stream",
          "name": "stdout",
          "text": [
            "hold the anchovies\n",
            "that is not the correct answer. please try again\n",
            "Marie, you can post a response if you wish\n"
          ]
        }
      ]
    },
    {
      "cell_type": "code",
      "source": [
        "#Try it yourself\n",
        "rodent = 'gerbil'\n",
        "print(\"Is rodent == 'gerbil'? I predit true\")\n",
        "print(rodent == 'gerbil')\n",
        "\n",
        "print(\"\\nIs rodent == 'dog'? I predict false\")\n",
        "print(rodent == 'dog')\n",
        "\n",
        "dog = 'rottweiller'\n",
        "print(\"\\nIs dog == 'rottweiller'? I predit true\")\n",
        "print(dog == 'rottweiller')\n",
        "\n",
        "print(\"\\nIs dog == 'pig'? I predict false\")\n",
        "print(dog == 'pig')\n",
        "\n",
        "pig = 'kunekune'\n",
        "print(\"\\nIs pig == 'kunekune'? I predit true\")\n",
        "print(pig == 'kunekune')\n",
        "\n",
        "print(\"\\nIs pig == 'bird'? I predict false\")\n",
        "print(pig == 'bird')\n",
        "\n",
        "bird = 'pigeon'\n",
        "print(\"\\nIs bird == 'pigeon'? I predit true\")\n",
        "print(bird == 'pigeon')\n",
        "\n",
        "print(\"\\nIs bird == 'cat'? I predict false\")\n",
        "print(bird == 'cat')\n",
        "\n",
        "cat = 'calico'\n",
        "print(\"\\nIs cat == 'calico'? I predit true\")\n",
        "print(cat == 'calico')\n",
        "\n",
        "print(\"\\nIs cat == 'hippo'? I predict false\")\n",
        "print(cat == 'hippo')"
      ],
      "metadata": {
        "colab": {
          "base_uri": "https://localhost:8080/"
        },
        "id": "GeJTaYpXrIVc",
        "outputId": "64792c8b-2c10-4a1d-b0e2-98a64d2bac7d"
      },
      "execution_count": null,
      "outputs": [
        {
          "output_type": "stream",
          "name": "stdout",
          "text": [
            "Is rodent == 'gerbil'? I predit true\n",
            "True\n",
            "\n",
            "Is rodent == 'dog'? I predict false\n",
            "False\n",
            "\n",
            "Is dog == 'rottweiller'? I predit true\n",
            "True\n",
            "\n",
            "Is dog == 'pig'? I predict false\n",
            "False\n",
            "\n",
            "Is pig == 'kunekune'? I predit true\n",
            "True\n",
            "\n",
            "Is pig == 'bird'? I predict false\n",
            "False\n",
            "\n",
            "Is bird == 'pigeon'? I predit true\n",
            "True\n",
            "\n",
            "Is bird == 'cat'? I predict false\n",
            "False\n",
            "\n",
            "Is cat == 'calico'? I predit true\n",
            "True\n",
            "\n",
            "Is cat == 'hippo'? I predict false\n",
            "False\n"
          ]
        }
      ]
    },
    {
      "cell_type": "code",
      "source": [
        "#5.2\n",
        "#inequality with strings\n",
        "animal = 'dolphin'\n",
        "if animal != 'owl':\n",
        "    print('pet the owl!')\n",
        "#tests using lower()\n",
        "pet = 'Tuple the gerbil'\n",
        "pet.lower() == 'tuple the gerbil'\n",
        "#numerical tests using equality and inequality greater than and less than\n",
        "#greater than or equal to and less than or equal to\n",
        "score = 65\n",
        "score < 80\n",
        "score <= 65\n",
        "score > 20\n",
        "score >= 30\n",
        "#tests using the and keyword and the or keyword\n",
        "\n",
        "#test whether an item is not in a list\n",
        "coworkers = ['bill', 'rylie', 'pat']\n",
        "person = \"logan\"\n",
        "if person not in coworkers:\n",
        "    print(f\"{person.title()} no longer works here\")"
      ],
      "metadata": {
        "colab": {
          "base_uri": "https://localhost:8080/"
        },
        "id": "SgaUTjpm_woY",
        "outputId": "cf09e63f-a547-4410-c867-1aad484bd4ce"
      },
      "execution_count": null,
      "outputs": [
        {
          "output_type": "stream",
          "name": "stdout",
          "text": [
            "pet the owl!\n",
            "Logan no longer works here\n"
          ]
        }
      ]
    },
    {
      "cell_type": "code",
      "source": [
        "#5.3\n",
        "alien_color = 'green'\n",
        "if alien_color == 'green':\n",
        "    print(\"you just earned 5 points! yay!\")"
      ],
      "metadata": {
        "colab": {
          "base_uri": "https://localhost:8080/"
        },
        "id": "Hz3FcgJYSQ4D",
        "outputId": "f83b300e-8f7e-41ce-9f7e-8ce231e9cdbd"
      },
      "execution_count": null,
      "outputs": [
        {
          "output_type": "stream",
          "name": "stdout",
          "text": [
            "you just earned 5 points! yay!\n"
          ]
        }
      ]
    },
    {
      "cell_type": "code",
      "source": [
        "#5.6\n",
        "age = 20\n",
        "if age < 2:\n",
        "    print(\"you are a baby\")\n",
        "elif age < 4:\n",
        "    print('you are a toddler')\n",
        "elif age < 13:\n",
        "    print('you are a kid')\n",
        "elif age < 20:\n",
        "    print('you are an teen')\n",
        "elif age < 65:\n",
        "    print('you are an adult')\n",
        "else:\n",
        "    print('you are an elder')"
      ],
      "metadata": {
        "id": "HLRQ7qKQTcb1",
        "colab": {
          "base_uri": "https://localhost:8080/"
        },
        "outputId": "92ded23e-8dea-4e23-f53a-9a8977e86372"
      },
      "execution_count": null,
      "outputs": [
        {
          "output_type": "stream",
          "name": "stdout",
          "text": [
            "you are an adult\n"
          ]
        }
      ]
    },
    {
      "cell_type": "code",
      "source": [
        "#5.12\n",
        "#done"
      ],
      "metadata": {
        "id": "iAdcXkyzSzNc"
      },
      "execution_count": null,
      "outputs": []
    }
  ]
}