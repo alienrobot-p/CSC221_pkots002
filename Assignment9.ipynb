{
  "nbformat": 4,
  "nbformat_minor": 0,
  "metadata": {
    "colab": {
      "provenance": [],
      "authorship_tag": "ABX9TyNhoWaLdeqpvnRGhXcH16ID",
      "include_colab_link": true
    },
    "kernelspec": {
      "name": "python3",
      "display_name": "Python 3"
    },
    "language_info": {
      "name": "python"
    }
  },
  "cells": [
    {
      "cell_type": "markdown",
      "metadata": {
        "id": "view-in-github",
        "colab_type": "text"
      },
      "source": [
        "<a href=\"https://colab.research.google.com/github/alienrobot-p/CSC221_pkots002/blob/main/Assignment9.ipynb\" target=\"_parent\"><img src=\"https://colab.research.google.com/assets/colab-badge.svg\" alt=\"Open In Colab\"/></a>"
      ]
    },
    {
      "cell_type": "code",
      "execution_count": null,
      "metadata": {
        "id": "Tp647t873yxi"
      },
      "outputs": [],
      "source": [
        "#phoebe kotsogiannis\n",
        "#assignment 9\n",
        "#chapter 8"
      ]
    },
    {
      "cell_type": "code",
      "source": [
        "#defining a function\n",
        "def greet_user():\n",
        "    \"\"\"Display a simple greeting.\"\"\"\n",
        "    print(\"Hello!\")\n",
        "\n",
        "greet_user()"
      ],
      "metadata": {
        "colab": {
          "base_uri": "https://localhost:8080/"
        },
        "id": "hCq4WUGF4Egm",
        "outputId": "4241a1b2-2561-4d76-bd22-8d26ed53832b"
      },
      "execution_count": null,
      "outputs": [
        {
          "output_type": "stream",
          "name": "stdout",
          "text": [
            "Hello!\n"
          ]
        }
      ]
    },
    {
      "cell_type": "code",
      "source": [
        "#passing information to a function\n",
        "def greet_user(username):\n",
        "    \"\"\"Display a simple greeting.\"\"\"\n",
        "    print(f\"Hello, {username.title()}!\")\n",
        "\n",
        "greet_user('jesse')"
      ],
      "metadata": {
        "colab": {
          "base_uri": "https://localhost:8080/"
        },
        "id": "piU43Gf34wPU",
        "outputId": "bca9ca30-b18e-404e-bc2e-127baddbb66d"
      },
      "execution_count": null,
      "outputs": [
        {
          "output_type": "stream",
          "name": "stdout",
          "text": [
            "Hello, Jesse!\n"
          ]
        }
      ]
    },
    {
      "cell_type": "code",
      "source": [
        "#8.2\n",
        "def favorite_book(title):\n",
        "    print(f\"One of my favorite books is {title}.\")\n",
        "\n",
        "favorite_book(\"Alice in Wonderland\")\n"
      ],
      "metadata": {
        "colab": {
          "base_uri": "https://localhost:8080/"
        },
        "id": "fspTRHK-482f",
        "outputId": "04001a70-59db-427b-ae29-84b9c40fd06b"
      },
      "execution_count": null,
      "outputs": [
        {
          "output_type": "stream",
          "name": "stdout",
          "text": [
            "One of my favorite books is Alice in Wonderland.\n"
          ]
        }
      ]
    },
    {
      "cell_type": "code",
      "source": [
        "#passing arguments\n",
        "#positional arguments\n",
        "\n",
        "def describe_pet(animal_type, pet_name):\n",
        "    \"\"\"Display information about a pet.\"\"\"\n",
        "    print(f\"\\nI have a {animal_type}.\")\n",
        "    print(f\"My {animal_type}'s name is {pet_name.title()}.\")\n",
        "\n",
        "describe_pet('hamster', 'harry')"
      ],
      "metadata": {
        "colab": {
          "base_uri": "https://localhost:8080/"
        },
        "id": "BTSZVaD75y7w",
        "outputId": "ef4436b5-dc18-49ad-d914-d38003bde720"
      },
      "execution_count": null,
      "outputs": [
        {
          "output_type": "stream",
          "name": "stdout",
          "text": [
            "\n",
            "I have a hamster.\n",
            "My hamster's name is Harry.\n"
          ]
        }
      ]
    },
    {
      "cell_type": "code",
      "source": [
        "def describe_pet(animal_type, pet_name):\n",
        "    \"\"\"Display information about a pet.\"\"\"\n",
        "    print(f\"\\nI have a {animal_type}.\")\n",
        "    print(f\"My {animal_type}'s name is {pet_name.title()}.\")\n",
        "\n",
        "describe_pet('hamster', 'harry')\n",
        "describe_pet('dog', 'willie')"
      ],
      "metadata": {
        "colab": {
          "base_uri": "https://localhost:8080/"
        },
        "id": "Ju4Tw2DC6PTN",
        "outputId": "56332da5-ed1a-4b48-b323-ca26efdd239d"
      },
      "execution_count": null,
      "outputs": [
        {
          "output_type": "stream",
          "name": "stdout",
          "text": [
            "\n",
            "I have a hamster.\n",
            "My hamster's name is Harry.\n",
            "\n",
            "I have a dog.\n",
            "My dog's name is Willie.\n"
          ]
        }
      ]
    },
    {
      "cell_type": "code",
      "source": [
        "#keyword arguments\n",
        "def describe_pet(animal_type, pet_name):\n",
        "    \"\"\"Display information about a pet.\"\"\"\n",
        "    print(f\"\\nI have a {animal_type}.\")\n",
        "    print(f\"My {animal_type}'s name is {pet_name.title()}.\")\n",
        "\n",
        "describe_pet(animal_type='hamster', pet_name='harry')"
      ],
      "metadata": {
        "colab": {
          "base_uri": "https://localhost:8080/"
        },
        "id": "1LscKi8O6mUV",
        "outputId": "acae27c1-c1d5-48fb-cde5-89518d3f0c0c"
      },
      "execution_count": null,
      "outputs": [
        {
          "output_type": "stream",
          "name": "stdout",
          "text": [
            "\n",
            "I have a hamster.\n",
            "My hamster's name is Harry.\n"
          ]
        }
      ]
    },
    {
      "cell_type": "code",
      "source": [
        "#default values\n",
        "def describe_pet(pet_name, animal_type='dog'):\n",
        "    \"\"\"Display information about a pet.\"\"\"\n",
        "    print(f\"\\nI have a {animal_type}.\")\n",
        "    print(f\"My {animal_type}'s name is {pet_name.title()}.\")\n",
        "\n",
        "describe_pet(pet_name='willie')"
      ],
      "metadata": {
        "colab": {
          "base_uri": "https://localhost:8080/"
        },
        "id": "63VlLXgw62IQ",
        "outputId": "a6002426-b615-495d-83d2-ed4e15ad73be"
      },
      "execution_count": null,
      "outputs": [
        {
          "output_type": "stream",
          "name": "stdout",
          "text": [
            "\n",
            "I have a dog.\n",
            "My dog's name is Willie.\n"
          ]
        }
      ]
    },
    {
      "cell_type": "code",
      "source": [
        "#equivalent function cells\n",
        "def describe_pet(pet_name, animal_type='dog'):\n",
        "    # A dog named Willie.\n",
        "    describe_pet('willie')\n",
        "    describe_pet(pet_name='willie')\n",
        "    # A hamster named Harry.\n",
        "    describe_pet('harry', 'hamster')\n",
        "    describe_pet(pet_name='harry', animal_type='hamster')\n",
        "    describe_pet(animal_type='hamster', pet_name='harry')"
      ],
      "metadata": {
        "id": "rLhjy_J27B_Y"
      },
      "execution_count": null,
      "outputs": []
    },
    {
      "cell_type": "code",
      "source": [
        "#8.3\n",
        "def make_shirt(size, message):\n",
        "    print(f\"Shirt size: {size}, Message: {message}\")\n",
        "\n",
        "make_shirt(\"xtra small\", \"taylor swift!\")\n",
        "\n",
        "make_shirt(size=\"massive\", message=\"tuplesss!\")\n"
      ],
      "metadata": {
        "colab": {
          "base_uri": "https://localhost:8080/"
        },
        "id": "TDdY1qL_5rUA",
        "outputId": "bd1f45be-f1fa-4c63-d2f0-01a0ec550ef8"
      },
      "execution_count": null,
      "outputs": [
        {
          "output_type": "stream",
          "name": "stdout",
          "text": [
            "Shirt size: xtra small, Message: taylor swift!\n",
            "Shirt size: massive, Message: tuplesss!\n"
          ]
        }
      ]
    },
    {
      "cell_type": "code",
      "source": [
        "#8.4\n",
        "def make_shirt(size=\"large\", message=\"thonny\"):\n",
        "    print(f\"Shirt size: {size}, Message: {message}\")\n",
        "\n",
        "make_shirt()\n",
        "\n",
        "make_shirt(size=\"medium\")\n",
        "\n",
        "make_shirt(size=\"xtra small again\", message=\"gerbils xoxo\")"
      ],
      "metadata": {
        "colab": {
          "base_uri": "https://localhost:8080/"
        },
        "id": "2CoVK4OR5tqI",
        "outputId": "ae29a0cf-0e0c-4229-ceb5-e578044021e0"
      },
      "execution_count": null,
      "outputs": [
        {
          "output_type": "stream",
          "name": "stdout",
          "text": [
            "Shirt size: large, Message: thonny\n",
            "Shirt size: medium, Message: thonny\n",
            "Shirt size: xtra small again, Message: gerbils xoxo\n"
          ]
        }
      ]
    },
    {
      "cell_type": "code",
      "source": [
        "#return values\n",
        "#returning a simple value\n",
        "def get_formatted_name(first_name, last_name):\n",
        "    \"\"\"Return a full name, neatly formatted.\"\"\"\n",
        "    full_name = f\"{first_name} {last_name}\"\n",
        "    return full_name.title()\n",
        "\n",
        "musician = get_formatted_name('jimi', 'hendrix')\n",
        "print(musician)"
      ],
      "metadata": {
        "colab": {
          "base_uri": "https://localhost:8080/"
        },
        "id": "DkaH4nVcADQr",
        "outputId": "60d7f00a-f624-4896-9a81-6cce4154914f"
      },
      "execution_count": null,
      "outputs": [
        {
          "output_type": "stream",
          "name": "stdout",
          "text": [
            "Jimi Hendrix\n"
          ]
        }
      ]
    },
    {
      "cell_type": "code",
      "source": [
        "#making an argument optional\n",
        "def get_formatted_name(first_name, middle_name, last_name):\n",
        "    \"\"\"Return a full name, neatly formatted.\"\"\"\n",
        "    full_name = f\"{first_name} {middle_name} {last_name}\"\n",
        "    return full_name.title()\n",
        "\n",
        "musician = get_formatted_name('john', 'lee', 'hooker')\n",
        "print(musician)"
      ],
      "metadata": {
        "colab": {
          "base_uri": "https://localhost:8080/"
        },
        "id": "8yk2HzXkAovW",
        "outputId": "4627d724-dfc6-44df-e404-da641c11e68b"
      },
      "execution_count": null,
      "outputs": [
        {
          "output_type": "stream",
          "name": "stdout",
          "text": [
            "John Lee Hooker\n"
          ]
        }
      ]
    },
    {
      "cell_type": "code",
      "source": [
        "def get_formatted_name(first_name, last_name, middle_name=''):\n",
        "    \"\"\"Return a full name, neatly formatted.\"\"\"\n",
        "    if middle_name:\n",
        "        full_name = f\"{first_name} {middle_name} {last_name}\"\n",
        "    else:\n",
        "        full_name = f\"{first_name} {last_name}\"\n",
        "    return full_name.title()\n",
        "\n",
        "musician = get_formatted_name('jimi', 'hendrix')\n",
        "print(musician)\n",
        "\n",
        "musician = get_formatted_name('john', 'hooker', 'lee')\n",
        "print(musician)"
      ],
      "metadata": {
        "colab": {
          "base_uri": "https://localhost:8080/"
        },
        "id": "LyfBoDsdA5gJ",
        "outputId": "3cc1db1c-bf11-468b-d9f2-713553e98129"
      },
      "execution_count": null,
      "outputs": [
        {
          "output_type": "stream",
          "name": "stdout",
          "text": [
            "Jimi Hendrix\n",
            "John Lee Hooker\n"
          ]
        }
      ]
    },
    {
      "cell_type": "code",
      "source": [
        "#returning a dictionary\n",
        "def build_person(first_name, last_name):\n",
        "    \"\"\"Return a dictionary of information about a person.\"\"\"\n",
        "    person = {'first': first_name, 'last': last_name}\n",
        "    return person\n",
        "\n",
        "musician = build_person('jimi', 'hendrix')\n",
        "print(musician)"
      ],
      "metadata": {
        "colab": {
          "base_uri": "https://localhost:8080/"
        },
        "id": "W8WD0JaJBITn",
        "outputId": "608ffeb6-6999-4f59-9e18-10b80a4d82e0"
      },
      "execution_count": null,
      "outputs": [
        {
          "output_type": "stream",
          "name": "stdout",
          "text": [
            "{'first': 'jimi', 'last': 'hendrix'}\n"
          ]
        }
      ]
    },
    {
      "cell_type": "code",
      "source": [
        "def build_person(first_name, last_name, age=None):\n",
        "      \"\"\"Return a dictionary of information about a person.\"\"\"\n",
        "      person = {'first': first_name, 'last': last_name}\n",
        "      if age:\n",
        "          person['age'] = age\n",
        "      return person\n",
        "\n",
        "musician = build_person('jimi', 'hendrix', age=27)\n",
        "print(musician)"
      ],
      "metadata": {
        "colab": {
          "base_uri": "https://localhost:8080/"
        },
        "id": "S0RhVmd6Bc12",
        "outputId": "45f51cd8-de13-4dbd-9805-ff11d6ee94a7"
      },
      "execution_count": null,
      "outputs": [
        {
          "output_type": "stream",
          "name": "stdout",
          "text": [
            "{'first': 'jimi', 'last': 'hendrix', 'age': 27}\n"
          ]
        }
      ]
    },
    {
      "cell_type": "code",
      "source": [
        "def get_formatted_name(first_name, last_name):\n",
        "    \"\"\"Return a full name, neatly formatted.\"\"\"\n",
        "    full_name = f\"{first_name} {last_name}\"\n",
        "    return full_name.title()\n",
        "\n",
        "while True:\n",
        "    print(\"\\nPlease tell me your name:\")\n",
        "    print(\"(enter 'q' at any time to quit)\")\n",
        "\n",
        "    f_name = input(\"First name: \")\n",
        "    if f_name == 'q':\n",
        "        break\n",
        "\n",
        "    l_name = input(\"Last name: \")\n",
        "    if l_name == 'q':\n",
        "        break\n",
        "\n",
        "    formatted_name = get_formatted_name(f_name, l_name)\n",
        "    print(f\"\\nHello, {formatted_name}!\")"
      ],
      "metadata": {
        "colab": {
          "base_uri": "https://localhost:8080/"
        },
        "id": "48g57kaMBhvO",
        "outputId": "9dc093da-1907-4298-a9f5-18ab49d3a763"
      },
      "execution_count": null,
      "outputs": [
        {
          "name": "stdout",
          "output_type": "stream",
          "text": [
            "\n",
            "Please tell me your name:\n",
            "(enter 'q' at any time to quit)\n",
            "First name: pk\n",
            "Last name: kots\n",
            "\n",
            "Hello, Pk Kots!\n",
            "\n",
            "Please tell me your name:\n",
            "(enter 'q' at any time to quit)\n",
            "First name: quit\n",
            "Last name: q\n"
          ]
        }
      ]
    },
    {
      "cell_type": "code",
      "source": [
        "#passing a list\n",
        "def greet_users(names):\n",
        "    \"\"\"Print a simple greeting to each user in the list.\"\"\"\n",
        "    for name in names:\n",
        "        msg = f\"Hello, {name.title()}!\"\n",
        "        print(msg)\n",
        "usernames = ['hannah', 'ty', 'margot']\n",
        "greet_users(usernames)"
      ],
      "metadata": {
        "colab": {
          "base_uri": "https://localhost:8080/"
        },
        "id": "K_ZwubPZCcCw",
        "outputId": "7cf27185-1cd9-41e9-d1cd-7b68869df3da"
      },
      "execution_count": null,
      "outputs": [
        {
          "output_type": "stream",
          "name": "stdout",
          "text": [
            "Hello, Hannah!\n",
            "Hello, Ty!\n",
            "Hello, Margot!\n"
          ]
        }
      ]
    },
    {
      "cell_type": "code",
      "source": [
        "#modifying a list in a function\n",
        "# Start with some designs that need to be printed.\n",
        "unprinted_designs = ['phone case', 'robot pendant', 'dodecahedron']\n",
        "completed_models = []\n",
        "\n",
        "# Simulate printing each design, until none are left.\n",
        "#  Move each design to completed_models after printing.\n",
        "while unprinted_designs:\n",
        "    current_design = unprinted_designs.pop()\n",
        "    print(f\"Printing model: {current_design}\")\n",
        "    completed_models.append(current_design)\n",
        "\n",
        "# Display all completed models.\n",
        "print(\"\\nThe following models have been printed:\")\n",
        "for completed_model in completed_models:\n",
        "    print(completed_model)"
      ],
      "metadata": {
        "colab": {
          "base_uri": "https://localhost:8080/"
        },
        "id": "EjiKbKUJCi6b",
        "outputId": "5b016b28-c72a-4295-b4b7-d1021c7a19e0"
      },
      "execution_count": null,
      "outputs": [
        {
          "output_type": "stream",
          "name": "stdout",
          "text": [
            "Printing model: dodecahedron\n",
            "Printing model: robot pendant\n",
            "Printing model: phone case\n",
            "\n",
            "The following models have been printed:\n",
            "dodecahedron\n",
            "robot pendant\n",
            "phone case\n"
          ]
        }
      ]
    },
    {
      "cell_type": "code",
      "source": [
        "def print_models(unprinted_designs, completed_models):\n",
        "    \"\"\"\n",
        "    Simulate printing each design, until none are left.\n",
        "    Move each design to completed_models after printing.\n",
        "    \"\"\"\n",
        "    while unprinted_designs:\n",
        "        current_design = unprinted_designs.pop()\n",
        "        print(f\"Printing model: {current_design}\")\n",
        "        completed_models.append(current_design)\n",
        "\n",
        "def show_completed_models(completed_models):\n",
        "    \"\"\"Show all the models that were printed.\"\"\"\n",
        "    print(\"\\nThe following models have been printed:\")\n",
        "    for completed_model in completed_models:\n",
        "        print(completed_model)\n",
        "\n",
        "unprinted_designs = ['phone case', 'robot pendant', 'dodecahedron']\n",
        "completed_models = []\n",
        "\n",
        "print_models(unprinted_designs, completed_models)\n",
        "show_completed_models(completed_models)"
      ],
      "metadata": {
        "colab": {
          "base_uri": "https://localhost:8080/"
        },
        "id": "WwU19LO5DBfe",
        "outputId": "492b45ba-35d0-4de8-b8f2-401f1e308263"
      },
      "execution_count": null,
      "outputs": [
        {
          "output_type": "stream",
          "name": "stdout",
          "text": [
            "Printing model: dodecahedron\n",
            "Printing model: robot pendant\n",
            "Printing model: phone case\n",
            "\n",
            "The following models have been printed:\n",
            "dodecahedron\n",
            "robot pendant\n",
            "phone case\n"
          ]
        }
      ]
    },
    {
      "cell_type": "code",
      "source": [
        "#passing an arbitrary number of arguements\n",
        "def make_pizza(*toppings):\n",
        "    \"\"\"Print the list of toppings that have been requested.\"\"\"\n",
        "    print(toppings)\n",
        "\n",
        "make_pizza('pepperoni')\n",
        "make_pizza('mushrooms', 'green peppers', 'extra cheese')"
      ],
      "metadata": {
        "colab": {
          "base_uri": "https://localhost:8080/"
        },
        "id": "5JeR0FrxDutP",
        "outputId": "ec7a446c-4ea1-4c73-83e4-c74f14c7b2d2"
      },
      "execution_count": null,
      "outputs": [
        {
          "output_type": "stream",
          "name": "stdout",
          "text": [
            "('pepperoni',)\n",
            "('mushrooms', 'green peppers', 'extra cheese')\n"
          ]
        }
      ]
    },
    {
      "cell_type": "code",
      "source": [
        "def make_pizza(*toppings):\n",
        "    \"\"\"Summarize the pizza we are about to make.\"\"\"\n",
        "    print(\"\\nMaking a pizza with the following toppings:\")\n",
        "    for topping in toppings:\n",
        "        print(f\"- {topping}\")\n",
        "\n",
        "make_pizza('pepperoni')\n",
        "make_pizza('mushrooms', 'green peppers', 'extra cheese')"
      ],
      "metadata": {
        "id": "EwsGzC22rqrX",
        "colab": {
          "base_uri": "https://localhost:8080/"
        },
        "outputId": "2560f4be-c11b-4acc-ff53-c891f75f8e8e"
      },
      "execution_count": null,
      "outputs": [
        {
          "output_type": "stream",
          "name": "stdout",
          "text": [
            "\n",
            "Making a pizza with the following toppings:\n",
            "- pepperoni\n",
            "\n",
            "Making a pizza with the following toppings:\n",
            "- mushrooms\n",
            "- green peppers\n",
            "- extra cheese\n"
          ]
        }
      ]
    },
    {
      "cell_type": "code",
      "source": [
        "#mixing positional and arbitrary arguments\n",
        "def make_pizza(size, *toppings):\n",
        "    \"\"\"Summarize the pizza we are about to make.\"\"\"\n",
        "    print(f\"\\nMaking a {size}-inch pizza with the following toppings:\")\n",
        "    for topping in toppings:\n",
        "        print(f\"- {topping}\")\n",
        "\n",
        "make_pizza(16, 'pepperoni')\n",
        "make_pizza(12, 'mushrooms', 'green peppers', 'extra cheese')"
      ],
      "metadata": {
        "colab": {
          "base_uri": "https://localhost:8080/"
        },
        "id": "CV_VZfjdr9pd",
        "outputId": "0494d658-075e-4208-d093-b1f01837a967"
      },
      "execution_count": null,
      "outputs": [
        {
          "output_type": "stream",
          "name": "stdout",
          "text": [
            "\n",
            "Making a 16-inch pizza with the following toppings:\n",
            "- pepperoni\n",
            "\n",
            "Making a 12-inch pizza with the following toppings:\n",
            "- mushrooms\n",
            "- green peppers\n",
            "- extra cheese\n"
          ]
        }
      ]
    },
    {
      "cell_type": "code",
      "source": [
        "#using arbitrary keyword arguments\n",
        "def build_profile(first, last, **user_info):\n",
        "    \"\"\"Build a dictionary containing everything we know about a user.\"\"\"\n",
        "    user_info['first_name'] = first\n",
        "    user_info['last_name'] = last\n",
        "    return user_info\n",
        "\n",
        "user_profile = build_profile('albert', 'einstein',\n",
        "                             location='princeton',\n",
        "                             field='physics')\n",
        "print(user_profile)"
      ],
      "metadata": {
        "colab": {
          "base_uri": "https://localhost:8080/"
        },
        "id": "TM0FfZ6CsF-F",
        "outputId": "651be817-825a-445c-d326-5d592031dade"
      },
      "execution_count": null,
      "outputs": [
        {
          "output_type": "stream",
          "name": "stdout",
          "text": [
            "{'location': 'princeton', 'field': 'physics', 'first_name': 'albert', 'last_name': 'einstein'}\n"
          ]
        }
      ]
    },
    {
      "cell_type": "code",
      "source": [
        "#8.14\n",
        "def make_car(manufacturer, model, **car):\n",
        "    car_info = {\n",
        "        'manufacturer': manufacturer,\n",
        "        'model': model,\n",
        "    }\n",
        "    car_info.update(car)\n",
        "    return car_info\n",
        "\n",
        "car = make_car('subaru', 'outback', color='blue', tow_package=True)\n",
        "print(car)\n"
      ],
      "metadata": {
        "id": "Xs-uVm565u8j",
        "colab": {
          "base_uri": "https://localhost:8080/"
        },
        "outputId": "e1ebc1f9-fcd8-4444-89bc-20b1d5b8e12d"
      },
      "execution_count": 2,
      "outputs": [
        {
          "output_type": "stream",
          "name": "stdout",
          "text": [
            "{'manufacturer': 'subaru', 'model': 'outback', 'color': 'blue', 'tow_package': True}\n"
          ]
        }
      ]
    },
    {
      "cell_type": "code",
      "source": [
        "#storing ur functions in modules\n",
        "#importing an entire module\n",
        "\n",
        "def make_pizza(size, *toppings):\n",
        "    \"\"\"Summarize the pizza we are about to make.\"\"\"\n",
        "    print(f\"\\nMaking a {size}-inch pizza with the following toppings:\")\n",
        "    for topping in toppings:\n",
        "        print(f\"- {topping}\")"
      ],
      "metadata": {
        "id": "_VHemBh1sS1O"
      },
      "execution_count": 3,
      "outputs": []
    }
  ]
}