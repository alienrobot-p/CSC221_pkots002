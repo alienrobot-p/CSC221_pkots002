{
  "nbformat": 4,
  "nbformat_minor": 0,
  "metadata": {
    "colab": {
      "provenance": [],
      "authorship_tag": "ABX9TyPhne7/G46RI8CxkE/vCDGg",
      "include_colab_link": true
    },
    "kernelspec": {
      "name": "python3",
      "display_name": "Python 3"
    },
    "language_info": {
      "name": "python"
    }
  },
  "cells": [
    {
      "cell_type": "markdown",
      "metadata": {
        "id": "view-in-github",
        "colab_type": "text"
      },
      "source": [
        "<a href=\"https://colab.research.google.com/github/alienrobot-p/CSC221_pkots002/blob/main/Assignment16_17.ipynb\" target=\"_parent\"><img src=\"https://colab.research.google.com/assets/colab-badge.svg\" alt=\"Open In Colab\"/></a>"
      ]
    },
    {
      "cell_type": "code",
      "execution_count": null,
      "metadata": {
        "id": "2h4lSyXOnb-N"
      },
      "outputs": [],
      "source": [
        "#phoebe kotsogiannis\n",
        "#assignment 16"
      ]
    },
    {
      "cell_type": "code",
      "source": [
        "#1.1\n",
        "print ('Hello world')\n",
        "6000 + 4523.50 + 134.25\n",
        "_ + 8192.75"
      ],
      "metadata": {
        "colab": {
          "base_uri": "https://localhost:8080/"
        },
        "id": "MZKis0E2nhxa",
        "outputId": "a074c80d-8ee9-4ed6-bb22-533a29f88538"
      },
      "execution_count": null,
      "outputs": [
        {
          "output_type": "stream",
          "name": "stdout",
          "text": [
            "Hello world\n"
          ]
        },
        {
          "output_type": "execute_result",
          "data": {
            "text/plain": [
              "117163.5"
            ]
          },
          "metadata": {},
          "execution_count": 18
        }
      ]
    },
    {
      "cell_type": "code",
      "source": [
        "#1.3\n",
        "42 # int\n",
        "4.2 # float\n",
        "'forty-two' # str\n",
        "True # bool\n",
        "\n",
        "x = 42\n",
        "x: int = 42\n",
        "2 + 3 * 4\n",
        "\n",
        "principal = 1000\n",
        "rate = 0.05\n",
        "numyears = 5\n",
        "year = 1\n",
        "while year <= numyears:\n",
        "    principal = principal * (1 + rate)\n",
        "    print(year, principal)\n",
        "    year += 1"
      ],
      "metadata": {
        "colab": {
          "base_uri": "https://localhost:8080/"
        },
        "id": "4dSJOxX8oIk8",
        "outputId": "db9fe502-8808-4051-8e7f-7aad3315a929"
      },
      "execution_count": null,
      "outputs": [
        {
          "output_type": "stream",
          "name": "stdout",
          "text": [
            "1 1050.0\n",
            "2 1102.5\n",
            "3 1157.625\n",
            "4 1215.5062500000001\n",
            "5 1276.2815625000003\n"
          ]
        }
      ]
    },
    {
      "cell_type": "code",
      "source": [
        "#1.4\n",
        "a = 0b11001001\n",
        "mask = 0b11110000\n",
        "x = (a & mask) >> 4"
      ],
      "metadata": {
        "id": "mdwOLzdksf5W"
      },
      "execution_count": null,
      "outputs": []
    },
    {
      "cell_type": "code",
      "source": [
        "#1.5\n",
        "b = 2\n",
        "if a < b:\n",
        "    print('Computer says Yes')\n",
        "else:\n",
        "    print('Computer says No')"
      ],
      "metadata": {
        "colab": {
          "base_uri": "https://localhost:8080/"
        },
        "id": "n1eZsol3szpq",
        "outputId": "e87091c6-471b-4c40-c6b9-be53cd9bb34e"
      },
      "execution_count": null,
      "outputs": [
        {
          "output_type": "stream",
          "name": "stdout",
          "text": [
            "Computer says No\n"
          ]
        }
      ]
    },
    {
      "cell_type": "code",
      "source": [
        "#1.6\n",
        "a = 'hello world'\n",
        "b = \"python is groovy\"\n",
        "c = '''computer says no'''\n",
        "d = \"\"\"computer still says no\"\"\"\n",
        "\n",
        "print('''Content-type: text/html\n",
        "\n",
        "<h1> Hello world </h1>\n",
        "Click <a href=\"http://www.python.org\">here</a>.\n",
        "''')\n",
        "\n",
        "print(\n",
        "'Content-type: text/html\\n'\n",
        "'\\n'\n",
        "'<h1> hello world <h1>\\n'\n",
        "'Clock <a href=\"http://www.python.org\">here</a>\\n'\n",
        ")\n",
        "\n",
        "print(f'{year:>3d} {principal : 0.2f}')\n",
        "print('{0:>3d} {1:0.2f}'.format(year, principal))\n",
        "print('%3d %0.2f' % (year, principal))\n",
        "\n",
        "a = 'hello world'\n",
        "print(len(a))\n",
        "b = a[4]\n",
        "c = a[-1]"
      ],
      "metadata": {
        "colab": {
          "base_uri": "https://localhost:8080/"
        },
        "id": "kjuIkWFOvHGv",
        "outputId": "52983515-1759-4612-d367-61ed7666f040"
      },
      "execution_count": null,
      "outputs": [
        {
          "output_type": "stream",
          "name": "stdout",
          "text": [
            "Content-type: text/html\n",
            "\n",
            "<h1> Hello world </h1>\n",
            "Click <a href=\"http://www.python.org\">here</a>.\n",
            "\n",
            "Content-type: text/html\n",
            "\n",
            "<h1> hello world <h1>\n",
            "Clock <a href=\"http://www.python.org\">here</a>\n",
            "\n",
            "  6  1276.28\n",
            "  6 1276.28\n",
            "  6 1276.28\n",
            "11\n"
          ]
        }
      ]
    },
    {
      "cell_type": "code",
      "source": [
        "#1.7\n",
        "with open('data.txt') as file:\n",
        "    for line in file:\n",
        "        print(line, end='')\n",
        "\n",
        "file = open('data.txt')\n",
        "for line in file:\n",
        "    print(line, end='')\n",
        "file.close()\n",
        "\n",
        "with open('data.txt') as file:\n",
        "    data = file.read()\n",
        "\n",
        "with open('data.txt') as file:\n",
        "    while (chunk := file.read(10000)):\n",
        "        print(chunk, end='')\n",
        "\n",
        "with open('data.txt') as file:\n",
        "    while True:\n",
        "        chunk = file.read(10000)\n",
        "        if not chunk:\n",
        "            break\n",
        "        print(chunk, end='')\n",
        "\n",
        "with open('out.txt', 'wt') as out:\n",
        "    while year <= numyears:\n",
        "        principal = principal * (1 + rate)\n",
        "        print(f'{year:3d} {principal:0.2f}', file=out)\n",
        "        year += 1\n",
        "\n",
        "out.write(f'{year:3d} {principal:0.2f}\\n')\n",
        "\n",
        "with open('data.txt', encoding='latin-1') as file:\n",
        "    data = file.read()\n",
        "\n",
        "name = input('enter your name : ')\n",
        "print('hello', name)"
      ],
      "metadata": {
        "colab": {
          "base_uri": "https://localhost:8080/",
          "height": 276
        },
        "id": "q7NpAAD9eL2H",
        "outputId": "63bc9619-1929-4219-aa64-e331e6518995"
      },
      "execution_count": null,
      "outputs": [
        {
          "output_type": "error",
          "ename": "FileNotFoundError",
          "evalue": "ignored",
          "traceback": [
            "\u001b[0;31m---------------------------------------------------------------------------\u001b[0m",
            "\u001b[0;31mFileNotFoundError\u001b[0m                         Traceback (most recent call last)",
            "\u001b[0;32m<ipython-input-13-46a910f3c658>\u001b[0m in \u001b[0;36m<cell line: 2>\u001b[0;34m()\u001b[0m\n\u001b[1;32m      1\u001b[0m \u001b[0;31m#1.7\u001b[0m\u001b[0;34m\u001b[0m\u001b[0;34m\u001b[0m\u001b[0m\n\u001b[0;32m----> 2\u001b[0;31m \u001b[0;32mwith\u001b[0m \u001b[0mopen\u001b[0m\u001b[0;34m(\u001b[0m\u001b[0;34m'data.txt'\u001b[0m\u001b[0;34m)\u001b[0m \u001b[0;32mas\u001b[0m \u001b[0mfile\u001b[0m\u001b[0;34m:\u001b[0m\u001b[0;34m\u001b[0m\u001b[0;34m\u001b[0m\u001b[0m\n\u001b[0m\u001b[1;32m      3\u001b[0m     \u001b[0;32mfor\u001b[0m \u001b[0mline\u001b[0m \u001b[0;32min\u001b[0m \u001b[0mfile\u001b[0m\u001b[0;34m:\u001b[0m\u001b[0;34m\u001b[0m\u001b[0;34m\u001b[0m\u001b[0m\n\u001b[1;32m      4\u001b[0m         \u001b[0mprint\u001b[0m\u001b[0;34m(\u001b[0m\u001b[0mline\u001b[0m\u001b[0;34m,\u001b[0m \u001b[0mend\u001b[0m\u001b[0;34m=\u001b[0m\u001b[0;34m''\u001b[0m\u001b[0;34m)\u001b[0m\u001b[0;34m\u001b[0m\u001b[0;34m\u001b[0m\u001b[0m\n\u001b[1;32m      5\u001b[0m \u001b[0;34m\u001b[0m\u001b[0m\n",
            "\u001b[0;31mFileNotFoundError\u001b[0m: [Errno 2] No such file or directory: 'data.txt'"
          ]
        }
      ]
    },
    {
      "cell_type": "code",
      "source": [
        "#1.8\n",
        "names = ['dave', 'paula', 'thomas', 'lewis']\n",
        "a = names[2]\n",
        "names[2] = 'tom'\n",
        "print(names[-1])\n",
        "names.append('alex')\n",
        "names.insert(2, 'aya')\n",
        "for name in names:\n",
        "    print(name)\n",
        "\n",
        "b = names[0:2]\n",
        "c = names[2:]\n",
        "names[1] = 'becky'\n",
        "names[0:2] = ['dave', 'mark', 'jeff']\n",
        "\n",
        "a = ['x', 'y'] + ['z', 'z', 'y']\n",
        "\n",
        "names = []\n",
        "names = list()\n",
        "letters = list('dave')\n",
        "\n",
        "a = [1, 'dave', 3.14, ['mark', 7, 9, [100, 101]], 10]\n",
        "a[1]\n",
        "a[3][2]\n",
        "a[3][3][1]"
      ],
      "metadata": {
        "colab": {
          "base_uri": "https://localhost:8080/"
        },
        "id": "iekE0g2zhrOg",
        "outputId": "77b939f3-7220-460c-bcde-b36b6a65e76c"
      },
      "execution_count": null,
      "outputs": [
        {
          "output_type": "stream",
          "name": "stdout",
          "text": [
            "lewis\n",
            "dave\n",
            "paula\n",
            "aya\n",
            "tom\n",
            "lewis\n",
            "alex\n"
          ]
        },
        {
          "output_type": "execute_result",
          "data": {
            "text/plain": [
              "101"
            ]
          },
          "metadata": {},
          "execution_count": 5
        }
      ]
    },
    {
      "cell_type": "code",
      "source": [
        "#1.9\n",
        "holding = ('GOOG', 100, 490.10)\n",
        "address = ('www.python.org', 80)\n",
        "item = 2\n",
        "a = ()\n",
        "b = (item,)\n",
        "\n",
        "name, shares, price = holding\n",
        "host, port = address\n",
        "\n",
        "filename = 'portfolio.csv'\n",
        "\n",
        "portfolio = []\n",
        "with open(filename) as file:\n",
        "    for line in file:\n",
        "        row = line.split(',')\n",
        "        name = row[0]\n",
        "        shares = int(row[1])\n",
        "        price = float(row[1])\n",
        "        holding = (name, shares, price)\n",
        "        portfolio.append(holding)\n",
        "\n",
        "portfolio[0]\n",
        "portfolio[1]\n",
        "\n",
        "portfolio[1][1]\n",
        "portfolio[1][2]\n",
        "\n",
        "total = 0.0\n",
        "for name, shares, price in portfolio:\n",
        "    total += shares * price\n",
        "\n",
        "total = sum([shares * price for _, shares, price in portfolio])"
      ],
      "metadata": {
        "colab": {
          "base_uri": "https://localhost:8080/",
          "height": 276
        },
        "id": "JMGbA15vcxBM",
        "outputId": "6636a7c3-0034-446a-9de8-28660d16197e"
      },
      "execution_count": null,
      "outputs": [
        {
          "output_type": "error",
          "ename": "FileNotFoundError",
          "evalue": "ignored",
          "traceback": [
            "\u001b[0;31m---------------------------------------------------------------------------\u001b[0m",
            "\u001b[0;31mFileNotFoundError\u001b[0m                         Traceback (most recent call last)",
            "\u001b[0;32m<ipython-input-11-8f6ea737f49a>\u001b[0m in \u001b[0;36m<cell line: 14>\u001b[0;34m()\u001b[0m\n\u001b[1;32m     12\u001b[0m \u001b[0;34m\u001b[0m\u001b[0m\n\u001b[1;32m     13\u001b[0m \u001b[0mportfolio\u001b[0m \u001b[0;34m=\u001b[0m \u001b[0;34m[\u001b[0m\u001b[0;34m]\u001b[0m\u001b[0;34m\u001b[0m\u001b[0;34m\u001b[0m\u001b[0m\n\u001b[0;32m---> 14\u001b[0;31m \u001b[0;32mwith\u001b[0m \u001b[0mopen\u001b[0m\u001b[0;34m(\u001b[0m\u001b[0mfilename\u001b[0m\u001b[0;34m)\u001b[0m \u001b[0;32mas\u001b[0m \u001b[0mfile\u001b[0m\u001b[0;34m:\u001b[0m\u001b[0;34m\u001b[0m\u001b[0;34m\u001b[0m\u001b[0m\n\u001b[0m\u001b[1;32m     15\u001b[0m     \u001b[0;32mfor\u001b[0m \u001b[0mline\u001b[0m \u001b[0;32min\u001b[0m \u001b[0mfile\u001b[0m\u001b[0;34m:\u001b[0m\u001b[0;34m\u001b[0m\u001b[0;34m\u001b[0m\u001b[0m\n\u001b[1;32m     16\u001b[0m         \u001b[0mrow\u001b[0m \u001b[0;34m=\u001b[0m \u001b[0mline\u001b[0m\u001b[0;34m.\u001b[0m\u001b[0msplit\u001b[0m\u001b[0;34m(\u001b[0m\u001b[0;34m','\u001b[0m\u001b[0;34m)\u001b[0m\u001b[0;34m\u001b[0m\u001b[0;34m\u001b[0m\u001b[0m\n",
            "\u001b[0;31mFileNotFoundError\u001b[0m: [Errno 2] No such file or directory: 'portfolio.csv'"
          ]
        }
      ]
    },
    {
      "cell_type": "code",
      "source": [
        "from traitlets.config.application import T\n",
        "from re import S\n",
        "#1.10\n",
        "names1= {'IBM', 'MSFT', 'AA'}\n",
        "names2 = set(['IBM', 'MSFT', 'HPE', 'IBM', 'CAT'])\n",
        "\n",
        "names2\n",
        "names = { s[0] for s in portfolio}\n",
        "\n",
        "r = set()\n",
        "\n",
        "a = t | s\n",
        "b = t & s\n",
        "c = t - s\n",
        "d = s - t\n",
        "e = t ^ s\n",
        "\n",
        "t.add('DIS')\n",
        "s.update({'JJ', 'GE', 'ACME'})\n",
        "\n",
        "t.remove('IBM')\n",
        "s.discard('SCOX')"
      ],
      "metadata": {
        "colab": {
          "base_uri": "https://localhost:8080/",
          "height": 276
        },
        "id": "cW8mwB1me3Uc",
        "outputId": "6fc89eb1-7990-4e58-dfe7-3465c16a2ce6"
      },
      "execution_count": null,
      "outputs": [
        {
          "output_type": "error",
          "ename": "NameError",
          "evalue": "ignored",
          "traceback": [
            "\u001b[0;31m---------------------------------------------------------------------------\u001b[0m",
            "\u001b[0;31mNameError\u001b[0m                                 Traceback (most recent call last)",
            "\u001b[0;32m<ipython-input-13-29258e660885>\u001b[0m in \u001b[0;36m<cell line: 12>\u001b[0;34m()\u001b[0m\n\u001b[1;32m     10\u001b[0m \u001b[0mr\u001b[0m \u001b[0;34m=\u001b[0m \u001b[0mset\u001b[0m\u001b[0;34m(\u001b[0m\u001b[0;34m)\u001b[0m\u001b[0;34m\u001b[0m\u001b[0;34m\u001b[0m\u001b[0m\n\u001b[1;32m     11\u001b[0m \u001b[0;34m\u001b[0m\u001b[0m\n\u001b[0;32m---> 12\u001b[0;31m \u001b[0ma\u001b[0m \u001b[0;34m=\u001b[0m \u001b[0mt\u001b[0m \u001b[0;34m|\u001b[0m \u001b[0ms\u001b[0m\u001b[0;34m\u001b[0m\u001b[0;34m\u001b[0m\u001b[0m\n\u001b[0m\u001b[1;32m     13\u001b[0m \u001b[0mb\u001b[0m \u001b[0;34m=\u001b[0m \u001b[0mt\u001b[0m \u001b[0;34m&\u001b[0m \u001b[0ms\u001b[0m\u001b[0;34m\u001b[0m\u001b[0;34m\u001b[0m\u001b[0m\n\u001b[1;32m     14\u001b[0m \u001b[0mc\u001b[0m \u001b[0;34m=\u001b[0m \u001b[0mt\u001b[0m \u001b[0;34m-\u001b[0m \u001b[0ms\u001b[0m\u001b[0;34m\u001b[0m\u001b[0;34m\u001b[0m\u001b[0m\n",
            "\u001b[0;31mNameError\u001b[0m: name 't' is not defined"
          ]
        }
      ]
    },
    {
      "cell_type": "code",
      "source": [
        "#1.11\n",
        "s = {\n",
        "    'name': 'GOOG',\n",
        "    'shares': 100,\n",
        "    'price': 490.10\n",
        "}\n",
        "\n",
        "name = s['name']\n",
        "cost = s['shares'] * s['price']\n",
        "\n",
        "s['shares'] = 75\n",
        "s['date'] = '2007-06-07'\n",
        "\n",
        "prices = {\n",
        "    'GOOG' : 490.1,\n",
        "    'AAPL' : 123.5,\n",
        "    'IBM' : 91.5,\n",
        "    'MSFT' : 52.13\n",
        "}\n",
        "\n",
        "p = prices['IBM']\n",
        "\n",
        "if 'IBM' in prices:\n",
        "    p = prices['IBM']\n",
        "else:\n",
        "    p = 0.0\n",
        "\n",
        "\n",
        "p = prices.get('IBM, 0.0')\n",
        "del prices['GOOG']\n",
        "\n",
        "prices = { }\n",
        "prices[('IBM', '2015-02-03')] = 91.23\n",
        "prices[('IBM', '2015-02-04')] = 91.42\n",
        "\n",
        "portfolio = [\n",
        "    ('ACME', 50, 92.34)\n",
        "    ('IBM', 75, 102.25)\n",
        "    ('PHP', 40, 74.50)\n",
        "    ('IBM', 50, 124.75)\n",
        "]\n",
        "\n",
        "total_shares = { s[0]: 0 for s in portfolio}\n",
        "for name, shares, _ in portfolio:\n",
        "    total_shares[name] += shares\n",
        "\n",
        "from collections import Counter\n",
        "\n",
        "total_shares = Counter()\n",
        "for name, shares, _ in portfolio:\n",
        "    total_shares[name] += shares\n",
        "\n",
        "prices = {}\n",
        "prices = dict()\n",
        "\n",
        "pairs = [('IBM', 125), ('ACME', 50), ('PHP', 40)]\n",
        "d = dict(pairs)\n",
        "\n",
        "syms = list(prices)\n",
        "syms = prices.keys()"
      ],
      "metadata": {
        "colab": {
          "base_uri": "https://localhost:8080/",
          "height": 364
        },
        "id": "VfbToDyMf-kL",
        "outputId": "1cc9f6af-36b9-4994-faf5-0193190e0ce8"
      },
      "execution_count": null,
      "outputs": [
        {
          "output_type": "stream",
          "name": "stderr",
          "text": [
            "<>:37: SyntaxWarning: 'tuple' object is not callable; perhaps you missed a comma?\n",
            "<>:37: SyntaxWarning: 'tuple' object is not callable; perhaps you missed a comma?\n",
            "<ipython-input-17-3fe372e0bdb1>:37: SyntaxWarning: 'tuple' object is not callable; perhaps you missed a comma?\n",
            "  ('ACME', 50, 92.34)\n"
          ]
        },
        {
          "output_type": "error",
          "ename": "TypeError",
          "evalue": "ignored",
          "traceback": [
            "\u001b[0;31m---------------------------------------------------------------------------\u001b[0m",
            "\u001b[0;31mTypeError\u001b[0m                                 Traceback (most recent call last)",
            "\u001b[0;32m<ipython-input-17-3fe372e0bdb1>\u001b[0m in \u001b[0;36m<cell line: 37>\u001b[0;34m()\u001b[0m\n\u001b[1;32m     35\u001b[0m \u001b[0;34m\u001b[0m\u001b[0m\n\u001b[1;32m     36\u001b[0m portfolio = [\n\u001b[0;32m---> 37\u001b[0;31m     \u001b[0;34m(\u001b[0m\u001b[0;34m'ACME'\u001b[0m\u001b[0;34m,\u001b[0m \u001b[0;36m50\u001b[0m\u001b[0;34m,\u001b[0m \u001b[0;36m92.34\u001b[0m\u001b[0;34m)\u001b[0m\u001b[0;34m\u001b[0m\u001b[0;34m\u001b[0m\u001b[0m\n\u001b[0m\u001b[1;32m     38\u001b[0m     \u001b[0;34m(\u001b[0m\u001b[0;34m'IBM'\u001b[0m\u001b[0;34m,\u001b[0m \u001b[0;36m75\u001b[0m\u001b[0;34m,\u001b[0m \u001b[0;36m102.25\u001b[0m\u001b[0;34m)\u001b[0m\u001b[0;34m\u001b[0m\u001b[0;34m\u001b[0m\u001b[0m\n\u001b[1;32m     39\u001b[0m     \u001b[0;34m(\u001b[0m\u001b[0;34m'PHP'\u001b[0m\u001b[0;34m,\u001b[0m \u001b[0;36m40\u001b[0m\u001b[0;34m,\u001b[0m \u001b[0;36m74.50\u001b[0m\u001b[0;34m)\u001b[0m\u001b[0;34m\u001b[0m\u001b[0;34m\u001b[0m\u001b[0m\n",
            "\u001b[0;31mTypeError\u001b[0m: 'tuple' object is not callable"
          ]
        }
      ]
    },
    {
      "cell_type": "code",
      "source": [
        "from prompt_toolkit.shortcuts.dialogs import message_dialog\n",
        "#1.12\n",
        "for n in [1, 2, 3, 4, 5, 6, 7, 8, 9]:\n",
        "    print(f'2 to the {n} power is {2**n}')\n",
        "for n in range(1, 10):\n",
        "    print(f'2 to the {n} power is {2**n}')\n",
        "\n",
        "a = range(5)\n",
        "b = range(1, 8)\n",
        "c = range(0, 14, 3)\n",
        "d = range(8, 1, -1)\n",
        "\n",
        "message = 'hello world'\n",
        "for c in message:\n",
        "    print(c)\n",
        "\n",
        "names = ['Dave', 'Mark', 'Ann', 'Phil']\n",
        "for name in names:\n",
        "    print(name)\n",
        "\n",
        "prices = {'GOOG' : 490.10, 'IBM' : 91.50, 'AAPL' : 123.15}\n",
        "\n",
        "for key in prices:\n",
        "    print(key, '=', prices[key])\n",
        "\n",
        "with open('foo.txt') as file:\n",
        "    for line in file:\n",
        "        print(line, end='')"
      ],
      "metadata": {
        "colab": {
          "base_uri": "https://localhost:8080/",
          "height": 888
        },
        "id": "A73rQ5wiviTW",
        "outputId": "be6bf386-b370-4fd2-b702-492107b72962"
      },
      "execution_count": null,
      "outputs": [
        {
          "output_type": "stream",
          "name": "stdout",
          "text": [
            "2 to the 1 power is 2\n",
            "2 to the 2 power is 4\n",
            "2 to the 3 power is 8\n",
            "2 to the 4 power is 16\n",
            "2 to the 5 power is 32\n",
            "2 to the 6 power is 64\n",
            "2 to the 7 power is 128\n",
            "2 to the 8 power is 256\n",
            "2 to the 9 power is 512\n",
            "2 to the 1 power is 2\n",
            "2 to the 2 power is 4\n",
            "2 to the 3 power is 8\n",
            "2 to the 4 power is 16\n",
            "2 to the 5 power is 32\n",
            "2 to the 6 power is 64\n",
            "2 to the 7 power is 128\n",
            "2 to the 8 power is 256\n",
            "2 to the 9 power is 512\n",
            "h\n",
            "e\n",
            "l\n",
            "l\n",
            "o\n",
            " \n",
            "w\n",
            "o\n",
            "r\n",
            "l\n",
            "d\n",
            "Dave\n",
            "Mark\n",
            "Ann\n",
            "Phil\n",
            "GOOG = 490.1\n",
            "IBM = 91.5\n",
            "AAPL = 123.15\n"
          ]
        },
        {
          "output_type": "error",
          "ename": "FileNotFoundError",
          "evalue": "ignored",
          "traceback": [
            "\u001b[0;31m---------------------------------------------------------------------------\u001b[0m",
            "\u001b[0;31mFileNotFoundError\u001b[0m                         Traceback (most recent call last)",
            "\u001b[0;32m<ipython-input-21-e2a6e0d59770>\u001b[0m in \u001b[0;36m<cell line: 26>\u001b[0;34m()\u001b[0m\n\u001b[1;32m     24\u001b[0m     \u001b[0mprint\u001b[0m\u001b[0;34m(\u001b[0m\u001b[0mkey\u001b[0m\u001b[0;34m,\u001b[0m \u001b[0;34m'='\u001b[0m\u001b[0;34m,\u001b[0m \u001b[0mprices\u001b[0m\u001b[0;34m[\u001b[0m\u001b[0mkey\u001b[0m\u001b[0;34m]\u001b[0m\u001b[0;34m)\u001b[0m\u001b[0;34m\u001b[0m\u001b[0;34m\u001b[0m\u001b[0m\n\u001b[1;32m     25\u001b[0m \u001b[0;34m\u001b[0m\u001b[0m\n\u001b[0;32m---> 26\u001b[0;31m \u001b[0;32mwith\u001b[0m \u001b[0mopen\u001b[0m\u001b[0;34m(\u001b[0m\u001b[0;34m'foo.txt'\u001b[0m\u001b[0;34m)\u001b[0m \u001b[0;32mas\u001b[0m \u001b[0mfile\u001b[0m\u001b[0;34m:\u001b[0m\u001b[0;34m\u001b[0m\u001b[0;34m\u001b[0m\u001b[0m\n\u001b[0m\u001b[1;32m     27\u001b[0m     \u001b[0;32mfor\u001b[0m \u001b[0mline\u001b[0m \u001b[0;32min\u001b[0m \u001b[0mfile\u001b[0m\u001b[0;34m:\u001b[0m\u001b[0;34m\u001b[0m\u001b[0;34m\u001b[0m\u001b[0m\n\u001b[1;32m     28\u001b[0m         \u001b[0mprint\u001b[0m\u001b[0;34m(\u001b[0m\u001b[0mline\u001b[0m\u001b[0;34m,\u001b[0m \u001b[0mend\u001b[0m\u001b[0;34m=\u001b[0m\u001b[0;34m''\u001b[0m\u001b[0;34m)\u001b[0m\u001b[0;34m\u001b[0m\u001b[0;34m\u001b[0m\u001b[0m\n",
            "\u001b[0;31mFileNotFoundError\u001b[0m: [Errno 2] No such file or directory: 'foo.txt'"
          ]
        }
      ]
    },
    {
      "cell_type": "code",
      "source": [
        "#1.13\n",
        "def remainder(a, b):\n",
        "    '''\n",
        "\n",
        "    '''\n",
        "    q = a // b\n",
        "    r = a - q * b\n",
        "    return r\n",
        "\n",
        "def remainder(a: int, b:int) -> int:\n",
        "    '''\n",
        "\n",
        "    '''\n",
        "    q = a // b\n",
        "    r = a - q * b\n",
        "    return r\n",
        "\n",
        "def divide(a, b):\n",
        "    q = a // b\n",
        "    r = a - q * b\n",
        "    return (q, r)\n",
        "\n",
        "quotient, remainder = divide(1456, 33)\n",
        "\n",
        "def connect(hostname, port, timeout=300):\n",
        "    ...\n",
        "\n",
        "connect('www.python.org', 80)\n",
        "connect('www.python.org', 80, 500)\n",
        "connect('www.python.org', 80, timeout=500)\n",
        "\n",
        "debug = True\n",
        "\n",
        "def read_data(filename):\n",
        "    if debug:\n",
        "        print('reading', filename)\n",
        "    ..."
      ],
      "metadata": {
        "id": "K_dL9_krw8Qe"
      },
      "execution_count": null,
      "outputs": []
    },
    {
      "cell_type": "code",
      "source": [
        "#1.14\n",
        "portfolio = []\n",
        "with open('portfolio.csv') as file:\n",
        "    for line in file:\n",
        "        row = line.split(',')\n",
        "        try:\n",
        "            name = row[0]\n",
        "            shares = int(row[1])\n",
        "            price = float(row[2])\n",
        "            holding = (name, shares, price)\n",
        "            portfolio.append(holding)\n",
        "        except ValueError as err:\n",
        "            print('Bad row:', row)\n",
        "            print('Reason:', err)\n",
        "\n",
        "raise RuntimeError('Computer says no')\n",
        "\n",
        "import threading\n",
        "lock = threading.Lock()\n",
        "...\n",
        "lock.acquire()\n",
        "try:\n",
        "    ...\n",
        "    statements\n",
        "    ...\n",
        "finally:\n",
        "    lock.release()\n",
        "with lock:\n",
        "    ...\n",
        "    statements\n",
        "    ..."
      ],
      "metadata": {
        "colab": {
          "base_uri": "https://localhost:8080/",
          "height": 276
        },
        "id": "xgffdn6wymbn",
        "outputId": "de81404a-ddfc-48ef-dabb-7b3c06da840a"
      },
      "execution_count": null,
      "outputs": [
        {
          "output_type": "error",
          "ename": "FileNotFoundError",
          "evalue": "ignored",
          "traceback": [
            "\u001b[0;31m---------------------------------------------------------------------------\u001b[0m",
            "\u001b[0;31mFileNotFoundError\u001b[0m                         Traceback (most recent call last)",
            "\u001b[0;32m<ipython-input-31-7c75fb951842>\u001b[0m in \u001b[0;36m<cell line: 3>\u001b[0;34m()\u001b[0m\n\u001b[1;32m      1\u001b[0m \u001b[0;31m#1.14\u001b[0m\u001b[0;34m\u001b[0m\u001b[0;34m\u001b[0m\u001b[0m\n\u001b[1;32m      2\u001b[0m \u001b[0mportfolio\u001b[0m \u001b[0;34m=\u001b[0m \u001b[0;34m[\u001b[0m\u001b[0;34m]\u001b[0m\u001b[0;34m\u001b[0m\u001b[0;34m\u001b[0m\u001b[0m\n\u001b[0;32m----> 3\u001b[0;31m \u001b[0;32mwith\u001b[0m \u001b[0mopen\u001b[0m\u001b[0;34m(\u001b[0m\u001b[0;34m'portfolio.csv'\u001b[0m\u001b[0;34m)\u001b[0m \u001b[0;32mas\u001b[0m \u001b[0mfile\u001b[0m\u001b[0;34m:\u001b[0m\u001b[0;34m\u001b[0m\u001b[0;34m\u001b[0m\u001b[0m\n\u001b[0m\u001b[1;32m      4\u001b[0m     \u001b[0;32mfor\u001b[0m \u001b[0mline\u001b[0m \u001b[0;32min\u001b[0m \u001b[0mfile\u001b[0m\u001b[0;34m:\u001b[0m\u001b[0;34m\u001b[0m\u001b[0;34m\u001b[0m\u001b[0m\n\u001b[1;32m      5\u001b[0m         \u001b[0mrow\u001b[0m \u001b[0;34m=\u001b[0m \u001b[0mline\u001b[0m\u001b[0;34m.\u001b[0m\u001b[0msplit\u001b[0m\u001b[0;34m(\u001b[0m\u001b[0;34m','\u001b[0m\u001b[0;34m)\u001b[0m\u001b[0;34m\u001b[0m\u001b[0;34m\u001b[0m\u001b[0m\n",
            "\u001b[0;31mFileNotFoundError\u001b[0m: [Errno 2] No such file or directory: 'portfolio.csv'"
          ]
        }
      ]
    },
    {
      "cell_type": "code",
      "source": [
        "#1.15\n",
        "raise SystemExit()\n",
        "raise SystemExit(\"something is wrong\")\n",
        "\n",
        "import atexit\n",
        "connection = open_connection(\"deaddot.com\")\n",
        "\n",
        "def cleanup():\n",
        "    print \"Going away...\"\n",
        "    close_connection(connection)\n",
        "\n",
        "atexit.register(cleanup)"
      ],
      "metadata": {
        "colab": {
          "base_uri": "https://localhost:8080/",
          "height": 157
        },
        "id": "FZWjENM92TM3",
        "outputId": "4e42b7a6-a6e2-4593-bca6-bb68e0280ec7"
      },
      "execution_count": null,
      "outputs": [
        {
          "output_type": "error",
          "ename": "SyntaxError",
          "evalue": "ignored",
          "traceback": [
            "\u001b[0;36m  File \u001b[0;32m\"<ipython-input-35-97673c4364ce>\"\u001b[0;36m, line \u001b[0;32m9\u001b[0m\n\u001b[0;31m    print \"Going away...\"\u001b[0m\n\u001b[0m    ^\u001b[0m\n\u001b[0;31mSyntaxError\u001b[0m\u001b[0;31m:\u001b[0m Missing parentheses in call to 'print'. Did you mean print(...)?\n"
          ]
        }
      ]
    },
    {
      "cell_type": "code",
      "source": [
        "#1.16\n",
        "items = [37, 42]\n",
        "items.append(73)\n",
        "items = [37, 42]\n",
        "dir(items)\n",
        "#DO MIDDLE LATER\n",
        "class Stack:\n",
        "    def __init__(self):\n",
        "        self._items = [ ]\n",
        "\n",
        "    def push(self, item):\n",
        "        self._items.append(item)\n",
        "\n",
        "    def pop(self):\n",
        "        return self._items.pop()\n",
        "\n",
        "    def __repr__(selfx):\n",
        "        return f'<{type(self).__name__} at Ox{id(self):x}, size={len(self)}>'\n",
        "\n",
        "    def __len__(self):\n",
        "        return len(self._items)\n",
        "\n",
        "s = Stack()\n",
        "s.push('dave')\n",
        "s.push(42)\n",
        "s.push([3, 4, 5])\n",
        "x = s.pop()\n",
        "y = s.pop()\n",
        "\n",
        "s = Stack()\n",
        "s.push('dave')\n",
        "s.push(42)\n",
        "len(s)\n",
        "s\n",
        "#GO BACK LATER PAGE 28\n",
        "class MyStack(Stack):\n",
        "    def swap(self):\n",
        "        a = self.pop()\n",
        "        b = self.pop()\n",
        "        self.push(a)\n",
        "        self.push(b)\n",
        "\n",
        "s = MyStack()\n",
        "s.push('dave')\n",
        "s.push(42)\n",
        "s.swap()\n",
        "s.pop()\n",
        "'dave'\n",
        "s.pop()\n",
        "42\n",
        "\n",
        "class NumericStack(Stack):\n",
        "    def push(self, item):\n",
        "        if not isinstance(item, (int, float)):\n",
        "            raise TypeError('Expected an int or float')\n",
        "        super().push(item)\n",
        "\n",
        "s = NumericStack()\n",
        "s.push(42)\n",
        "s.push('dave')\n",
        "Traceback (most recent call last):\n",
        "...\n",
        "TypeError: Expected an int or float\n",
        "\n",
        "Calculate 2 + 3 * 4\n",
        "calc = Calculator()\n",
        "calc.push(2)\n",
        "calc.push(3)\n",
        "calc.push(4)\n",
        "calc.mul()\n",
        "calc.add()\n",
        "calc.pop()\n",
        "\n",
        "class Calculator:\n",
        "    def __init__(self):\n",
        "        self._stack = Stack()\n",
        "\n",
        "    def push(self, item):\n",
        "        self._stack.push(item)\n",
        "\n",
        "    def pop(self):\n",
        "        return self._stack.pop()\n",
        "\n",
        "    def add(self):\n",
        "        self.push(self.pop() + self.pop())\n",
        "\n",
        "    def mul(self):\n",
        "        self.push(self.pop() * self.pop())\n",
        "\n",
        "    def sub(self):\n",
        "        right = self.pop()\n",
        "        self.push(self.pop() - right)\n",
        "\n",
        "    def div(self):\n",
        "        right = self.pop()\n",
        "        self.push(self.pop() / right)"
      ],
      "metadata": {
        "colab": {
          "base_uri": "https://localhost:8080/",
          "height": 140
        },
        "id": "sBSNJMQw3BMe",
        "outputId": "bcab739b-5961-4fa9-d819-67856e685622"
      },
      "execution_count": null,
      "outputs": [
        {
          "output_type": "error",
          "ename": "SyntaxError",
          "evalue": "ignored",
          "traceback": [
            "\u001b[0;36m  File \u001b[0;32m\"<ipython-input-43-c7c9fb8ea03b>\"\u001b[0;36m, line \u001b[0;32m61\u001b[0m\n\u001b[0;31m    Traceback (most recent call last):\u001b[0m\n\u001b[0m               ^\u001b[0m\n\u001b[0;31mSyntaxError\u001b[0m\u001b[0;31m:\u001b[0m invalid syntax. Perhaps you forgot a comma?\n"
          ]
        }
      ]
    },
    {
      "cell_type": "code",
      "source": [
        "#1.17\n",
        "def read_portfolio(filename):\n",
        "    portfolio = []\n",
        "    with open(filename) as file:\n",
        "        for line in file:\n",
        "            row = line.split(',')\n",
        "            try:\n",
        "                name = row[0]\n",
        "                shares = int(row[1])\n",
        "                price = float(row[2])\n",
        "                holding = (name, shares, price)\n",
        "                portfolio.append(holding)\n",
        "            except ValueError as err:\n",
        "                print('Bad row:', row)\n",
        "                print('Reason:', err)\n",
        "    return portfolio\n",
        "\n",
        "import readport\n",
        "\n",
        "def portfolio_cost(filename):\n",
        "    '''\n",
        "    Compute the total shares*price of a portfolio\n",
        "    '''\n",
        "    port = readport.read_portfolio(filename)\n",
        "    return sum(shares * price for _, shares, price in port)\n",
        "\n",
        "    import readport as rp\n",
        "    port = rp.read_portfolio('portfolio.dat')\n",
        "\n",
        "    from readport import read_portfolio\n",
        "    port = read_portfolio('portfolio.dat')\n",
        "\n"
      ],
      "metadata": {
        "id": "GpT6HYn8FYV4"
      },
      "execution_count": null,
      "outputs": []
    },
    {
      "cell_type": "code",
      "source": [
        "#1.18\n",
        "import csv\n",
        "\n",
        "def read_portfolio(filename):\n",
        "    ...\n",
        "\n",
        "def main():\n",
        "    portfolio = read_portfolio('portfolio.csv')\n",
        "    for name, shares, price in portfolio:\n",
        "        print(f'{name:>10s} {shares:10d} {price:10.2f}')\n",
        "if __name__ == '__main__':\n",
        "    main()\n",
        "\n",
        "def main(argv):\n",
        "    if len(argv) == 1:\n",
        "        filename = input('Enter filename: ')\n",
        "    elif len(argv) == 2:\n",
        "        filename = argv[1]\n",
        "    else:\n",
        "        raise SystemExit(f'Usage: {argv[0]} [ filename ]')\n",
        "\n",
        "    portfolio = read_portfolio(filename)\n",
        "    for name, shares, price in portfolio:\n",
        "        print(f'{name:>10s} {shares:10d} {price:10.2f}')\n",
        "\n",
        "    if __name__ == '__main__':\n",
        "        import sys\n",
        "        main(sys.argvx)\n",
        "\n",
        "    bash % python readport.py\n",
        "    Enter filename: portfolio.csv\n",
        "    ...\n",
        "    bash % python readport.py portfolio.csv\n",
        "    ...\n",
        "    bash % python readport.py a b c\n",
        "    Usage: readport.py [ filename ]\n",
        "    bash %"
      ],
      "metadata": {
        "colab": {
          "base_uri": "https://localhost:8080/",
          "height": 140
        },
        "id": "zVMNhquylI0m",
        "outputId": "dc11a9f5-811c-4d97-8127-107bb2e6220b"
      },
      "execution_count": null,
      "outputs": [
        {
          "output_type": "error",
          "ename": "SyntaxError",
          "evalue": "ignored",
          "traceback": [
            "\u001b[0;36m  File \u001b[0;32m\"<ipython-input-1-59a313df081c>\"\u001b[0;36m, line \u001b[0;32m30\u001b[0m\n\u001b[0;31m    bash % python readport.py\u001b[0m\n\u001b[0m                  ^\u001b[0m\n\u001b[0;31mSyntaxError\u001b[0m\u001b[0;31m:\u001b[0m invalid syntax\n"
          ]
        }
      ]
    }
  ]
}